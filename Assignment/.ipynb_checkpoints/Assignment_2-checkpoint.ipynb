{
 "cells": [
  {
   "cell_type": "markdown",
   "id": "828ff245-f204-41ba-b5e7-696afa4d28e1",
   "metadata": {},
   "source": [
    "# Variables"
   ]
  },
  {
   "cell_type": "markdown",
   "id": "f185e90b-07ac-43ea-8148-63e58ead6b22",
   "metadata": {},
   "source": [
    "## 1. Write a program that swaps the values of two variables."
   ]
  },
  {
   "cell_type": "code",
   "execution_count": 4,
   "id": "24b7144b-9dfa-4cca-8286-f4bc2bb0fb13",
   "metadata": {},
   "outputs": [
    {
     "name": "stdout",
     "output_type": "stream",
     "text": [
      "2 1\n"
     ]
    }
   ],
   "source": [
    "a, b = 1, 2\n",
    "a, b = b, a\n",
    "print(a, b)"
   ]
  },
  {
   "cell_type": "markdown",
   "id": "d94f3bc2-fe49-4a35-b947-93ba3b0fb82c",
   "metadata": {},
   "source": [
    "## 2. Write a program that calculates the area of a rectangle given its length and width."
   ]
  },
  {
   "cell_type": "code",
   "execution_count": 15,
   "id": "7f09b264-a4cc-453b-966f-5c953fca3bd4",
   "metadata": {},
   "outputs": [
    {
     "data": {
      "text/plain": [
       "200"
      ]
     },
     "execution_count": 15,
     "metadata": {},
     "output_type": "execute_result"
    }
   ],
   "source": [
    "length = 20\n",
    "width = 10\n",
    "area_of_rectangle = length * width\n",
    "print(area_of_rectangle)"
   ]
  },
  {
   "cell_type": "markdown",
   "id": "48d0deac-3082-4637-9dba-48cc520707b6",
   "metadata": {},
   "source": [
    "## 3. Write a program that converts temperature from Fahrenheit to Celsius."
   ]
  },
  {
   "cell_type": "code",
   "execution_count": 14,
   "id": "55381024-515d-4637-81a4-0f772b086bac",
   "metadata": {},
   "outputs": [
    {
     "data": {
      "text/plain": [
       "36.888888888888886"
      ]
     },
     "execution_count": 14,
     "metadata": {},
     "output_type": "execute_result"
    }
   ],
   "source": [
    "fahrenheit = 98.4\n",
    "celcius = (fahrenheit - 32) * 5 / 9\n",
    "print(celcius)"
   ]
  },
  {
   "cell_type": "markdown",
   "id": "9e1e7aa7-3bb4-4977-b95a-11539f503927",
   "metadata": {},
   "source": [
    "## 4. Write a program that calculates the volume of a sphere given its radius."
   ]
  },
  {
   "cell_type": "code",
   "execution_count": 13,
   "id": "ffdaf494-1135-430d-a450-de076329c45e",
   "metadata": {},
   "outputs": [
    {
     "data": {
      "text/plain": [
       "1436.0266666666666"
      ]
     },
     "execution_count": 13,
     "metadata": {},
     "output_type": "execute_result"
    }
   ],
   "source": [
    "pi = 3.14\n",
    "radius = 7\n",
    "volume_of_sphere = (4/3) * pi * radius**3\n",
    "print(volume_of_sphere)"
   ]
  },
  {
   "cell_type": "markdown",
   "id": "1b02c970-6055-4951-bbd9-89243db950ce",
   "metadata": {},
   "source": [
    "## 5. Write a program that finds the average of three numbers."
   ]
  },
  {
   "cell_type": "code",
   "execution_count": 9,
   "id": "c8240367-8ed7-4093-906f-3d5cea8eda38",
   "metadata": {},
   "outputs": [
    {
     "name": "stdout",
     "output_type": "stream",
     "text": [
      "2.0\n"
     ]
    }
   ],
   "source": [
    "a, b, c = 1, 2, 3\n",
    "average = (a+b+c) / 3\n",
    "print(average)"
   ]
  },
  {
   "cell_type": "markdown",
   "id": "f389f288-9235-4fb7-a03a-8955bfe1b22e",
   "metadata": {},
   "source": [
    "# If-elif-else"
   ]
  },
  {
   "cell_type": "markdown",
   "id": "d0c516cb-06bc-4b49-834e-4af5b043a418",
   "metadata": {},
   "source": [
    "## 6. Write a program that determines if a number is even or odd."
   ]
  },
  {
   "cell_type": "code",
   "execution_count": 11,
   "id": "fbb040bf-1d57-4a3c-bcb1-8ea5efdd4cf3",
   "metadata": {},
   "outputs": [
    {
     "name": "stdout",
     "output_type": "stream",
     "text": [
      "odd\n"
     ]
    }
   ],
   "source": [
    "n = 5\n",
    "\n",
    "if n%2==0:\n",
    "    print('even')\n",
    "else:\n",
    "    print('odd')"
   ]
  },
  {
   "cell_type": "markdown",
   "id": "529e15dd-f4fe-4762-8ecc-d1798b517e71",
   "metadata": {},
   "source": [
    "## 7. Write a program that finds the maximum of three numbers."
   ]
  },
  {
   "cell_type": "code",
   "execution_count": 19,
   "id": "e5058d14-b0d9-4d96-9c77-ffcacfd8a0b1",
   "metadata": {},
   "outputs": [
    {
     "name": "stdout",
     "output_type": "stream",
     "text": [
      "3\n"
     ]
    }
   ],
   "source": [
    "a, b, c = 1, 2, 3\n",
    "\n",
    "if a>b and a>c:\n",
    "    print(a)\n",
    "elif b>a and b>c:\n",
    "    print(b)\n",
    "else:\n",
    "    print(c)\n"
   ]
  },
  {
   "cell_type": "markdown",
   "id": "2a50c574-ad18-4b69-9855-af64f7db778a",
   "metadata": {},
   "source": [
    "## 8. Write a program that determines if a year is a leap year or not."
   ]
  },
  {
   "cell_type": "code",
   "execution_count": 58,
   "id": "1314710b-6462-4397-9506-92189e11e581",
   "metadata": {},
   "outputs": [
    {
     "name": "stdin",
     "output_type": "stream",
     "text": [
      " 2004\n"
     ]
    },
    {
     "name": "stdout",
     "output_type": "stream",
     "text": [
      "2004 is leap year\n"
     ]
    }
   ],
   "source": [
    "year = int(input())\n",
    "\n",
    "if (year%400 == 0 or year%100 != 0) and year%4 == 0:\n",
    "    print(f'{year} is leap year')\n",
    "else:\n",
    "    print(f'{year} is not leap year')"
   ]
  },
  {
   "cell_type": "markdown",
   "id": "2932e2e4-461d-4f08-8e0d-f3f02f0e9db7",
   "metadata": {},
   "source": [
    "## 9. Write a program that determines if a number is positive, negative, or zero."
   ]
  },
  {
   "cell_type": "code",
   "execution_count": 57,
   "id": "731a2f57-1daf-454a-a7e9-bc8841722ef1",
   "metadata": {},
   "outputs": [
    {
     "name": "stdin",
     "output_type": "stream",
     "text": [
      " -2\n"
     ]
    },
    {
     "name": "stdout",
     "output_type": "stream",
     "text": [
      "Negative\n"
     ]
    }
   ],
   "source": [
    "n = int(input())\n",
    "\n",
    "if n>0:\n",
    "    print('Positive')\n",
    "elif n<0:\n",
    "    print('Negative')\n",
    "else:\n",
    "    print('Zero')"
   ]
  },
  {
   "cell_type": "markdown",
   "id": "dc5c5931-aca2-4041-a19c-7f426b2dc965",
   "metadata": {},
   "source": [
    "## 10. Write a program that calculates the grade based on a given percentage."
   ]
  },
  {
   "cell_type": "code",
   "execution_count": 29,
   "id": "679ec039-8c4a-42cc-a607-dff8c0a0a570",
   "metadata": {},
   "outputs": [
    {
     "name": "stdout",
     "output_type": "stream",
     "text": [
      "A\n"
     ]
    }
   ],
   "source": [
    "percentage = 87\n",
    "\n",
    "if percentage >= 90:\n",
    "    print('A+')\n",
    "elif percentage >= 85:\n",
    "    print('A')\n",
    "elif percentage >= 80:\n",
    "    print('B+')\n",
    "elif percentage >= 75:\n",
    "    print('B')\n",
    "elif percentage >= 70:\n",
    "    print('C')\n",
    "elif percentage >= 60:\n",
    "    print('D')\n",
    "else:\n",
    "    print('F')"
   ]
  },
  {
   "cell_type": "markdown",
   "id": "4e3212a1-ff1b-4eb4-8e2b-dab8896b58dc",
   "metadata": {},
   "source": [
    "# For Loop"
   ]
  },
  {
   "cell_type": "markdown",
   "id": "47cd54b3-5329-4779-9f82-8de4cee2b849",
   "metadata": {},
   "source": [
    "## 11. Write a program that prints the first `n` natural numbers."
   ]
  },
  {
   "cell_type": "code",
   "execution_count": 56,
   "id": "a09c78bf-4395-40f8-88dd-e50b7b6ee615",
   "metadata": {},
   "outputs": [
    {
     "name": "stdin",
     "output_type": "stream",
     "text": [
      " 10\n"
     ]
    },
    {
     "name": "stdout",
     "output_type": "stream",
     "text": [
      "1 2 3 4 5 6 7 8 9 10 "
     ]
    }
   ],
   "source": [
    "n = int(input())\n",
    "for i in range(1, n+1):\n",
    "    print(i, end=' ')"
   ]
  },
  {
   "cell_type": "markdown",
   "id": "1d43eb2a-bf54-40aa-98e5-ccf75b88bd78",
   "metadata": {},
   "source": [
    "## 12. Write a program that calculates the factorial of a number."
   ]
  },
  {
   "cell_type": "code",
   "execution_count": 55,
   "id": "4e7eb18c-dc53-41d9-b63b-b8642e84c667",
   "metadata": {},
   "outputs": [
    {
     "name": "stdin",
     "output_type": "stream",
     "text": [
      " 5\n"
     ]
    },
    {
     "name": "stdout",
     "output_type": "stream",
     "text": [
      "120\n"
     ]
    }
   ],
   "source": [
    "num = int(input())\n",
    "\n",
    "if num<0:\n",
    "    print('Negative number!')\n",
    "elif num == 0:\n",
    "    print(1)\n",
    "else:\n",
    "    factorial = 1\n",
    "    for i in range(1, num+1):\n",
    "        factorial *= i\n",
    "    print(factorial)"
   ]
  },
  {
   "cell_type": "markdown",
   "id": "ae8c5b93-e243-4d9f-82a7-3b62d9f1b006",
   "metadata": {},
   "source": [
    "## 13. Write a program that generates a Fibonacci sequence of length `n`."
   ]
  },
  {
   "cell_type": "code",
   "execution_count": 38,
   "id": "6804c208-0d6f-4f5e-b030-bfbd66eded40",
   "metadata": {},
   "outputs": [
    {
     "name": "stdin",
     "output_type": "stream",
     "text": [
      " 4\n"
     ]
    },
    {
     "name": "stdout",
     "output_type": "stream",
     "text": [
      "0 1 1 2 "
     ]
    }
   ],
   "source": [
    "n = int(input())\n",
    "\n",
    "if n==0:\n",
    "    print(0)\n",
    "elif n==1:\n",
    "    print(0, 1)\n",
    "else:\n",
    "    a, b = 0, 1\n",
    "    print(a, b, end=' ')\n",
    "    for i in range(2, n):\n",
    "        c = a + b\n",
    "        print(c, end=' ')\n",
    "        a, b = b, c"
   ]
  },
  {
   "cell_type": "markdown",
   "id": "a2c352d2-4f54-4361-9769-1a350edd6e79",
   "metadata": {},
   "source": [
    "## 14. Write a program that checks if a given number is prime or not."
   ]
  },
  {
   "cell_type": "code",
   "execution_count": 42,
   "id": "c696f37c-5b34-4cc2-96b8-5073dd028212",
   "metadata": {},
   "outputs": [
    {
     "name": "stdout",
     "output_type": "stream",
     "text": [
      "37 is prime\n"
     ]
    }
   ],
   "source": [
    "n = 37\n",
    "\n",
    "if n<=1:\n",
    "    print(f'{n} is not prime')\n",
    "else:\n",
    "    flag = 0\n",
    "    for i in range(2, int(n**0.5)+1):\n",
    "        if n%i == 0:\n",
    "            flag = 1\n",
    "            break\n",
    "    if flag==0:\n",
    "        print(f'{n} is prime')\n",
    "    else:\n",
    "        print(f'{n} is not prime')"
   ]
  },
  {
   "cell_type": "markdown",
   "id": "22e5e9fe-3c38-4b86-8cec-c9f5f1ff1d6c",
   "metadata": {},
   "source": [
    "## 15. Write a program that prints the multiplication table of a given number."
   ]
  },
  {
   "cell_type": "code",
   "execution_count": 43,
   "id": "e380e1a8-da75-48c3-afca-30b1a1afdd15",
   "metadata": {},
   "outputs": [
    {
     "name": "stdout",
     "output_type": "stream",
     "text": [
      "multiplication table of 9\n",
      "9 x 1 = 9\n",
      "9 x 2 = 18\n",
      "9 x 3 = 27\n",
      "9 x 4 = 36\n",
      "9 x 5 = 45\n",
      "9 x 6 = 54\n",
      "9 x 7 = 63\n",
      "9 x 8 = 72\n",
      "9 x 9 = 81\n",
      "9 x 10 = 90\n"
     ]
    }
   ],
   "source": [
    "n = 9\n",
    "print(f'multiplication table of {n}')\n",
    "for i in range(1, 11):\n",
    "    print(f'{n} x {i} = {n*i}')"
   ]
  },
  {
   "cell_type": "markdown",
   "id": "536b9e2c-aaa4-4103-bb50-fe6787ceecde",
   "metadata": {},
   "source": [
    "# While Loop"
   ]
  },
  {
   "cell_type": "markdown",
   "id": "45beafc3-5c6d-4ba6-bfbe-5680a10510e9",
   "metadata": {},
   "source": [
    "## 16. Write a program that finds the sum of all even numbers between 1 and `n`."
   ]
  },
  {
   "cell_type": "code",
   "execution_count": 44,
   "id": "bbb10c11-590f-4d20-9f7b-07c4da71e8a1",
   "metadata": {},
   "outputs": [
    {
     "name": "stdin",
     "output_type": "stream",
     "text": [
      " 10\n"
     ]
    },
    {
     "name": "stdout",
     "output_type": "stream",
     "text": [
      "30\n"
     ]
    }
   ],
   "source": [
    "n = int(input())\n",
    "i = 2\n",
    "sum = 0\n",
    "\n",
    "while i<=n:\n",
    "    sum += i\n",
    "    i += 2\n",
    "print(sum)"
   ]
  },
  {
   "cell_type": "markdown",
   "id": "41dbe43d-79cb-48ee-9c2c-575dfbbf8fbc",
   "metadata": {},
   "source": [
    "## 17. Write a program that reverses a given number."
   ]
  },
  {
   "cell_type": "code",
   "execution_count": 45,
   "id": "d18054fb-fa3f-402a-9ff1-b9976ed9b822",
   "metadata": {},
   "outputs": [
    {
     "name": "stdout",
     "output_type": "stream",
     "text": [
      "3465\n"
     ]
    }
   ],
   "source": [
    "n = 5643\n",
    "reversed = 0\n",
    "\n",
    "while n>0:\n",
    "    remainder = n%10\n",
    "    reversed = reversed*10 + remainder\n",
    "    n //= 10\n",
    "print(reversed)"
   ]
  },
  {
   "cell_type": "markdown",
   "id": "5ea93ed2-f672-42f0-ad81-c2e55e73dff8",
   "metadata": {},
   "source": [
    "## 18. Write a program that checks if a given string is a palindrome."
   ]
  },
  {
   "cell_type": "code",
   "execution_count": 48,
   "id": "26562950-a8be-42a2-a408-3ca6ec9e89d2",
   "metadata": {},
   "outputs": [
    {
     "name": "stdout",
     "output_type": "stream",
     "text": [
      "Palindrome\n"
     ]
    }
   ],
   "source": [
    "s = 'Aibohphobia'\n",
    "flag = 0\n",
    "s = s.lower()\n",
    "i, j = 0, len(s)-1\n",
    "\n",
    "while i<j:\n",
    "    if s[i] != s[j]:\n",
    "        flag = 1\n",
    "        break\n",
    "    i += 1\n",
    "    j -= 1\n",
    "\n",
    "if flag == 0:\n",
    "    print('Palindrome')\n",
    "else:\n",
    "    print('Not Palindrome')"
   ]
  },
  {
   "cell_type": "markdown",
   "id": "83df2e8d-fce7-4a55-afd5-b320123a00cd",
   "metadata": {},
   "source": [
    "## 19. Write a program that generates a random number and allows the user to guess it."
   ]
  },
  {
   "cell_type": "code",
   "execution_count": 51,
   "id": "b6322559-4683-4580-9098-2571865d509c",
   "metadata": {},
   "outputs": [
    {
     "name": "stdin",
     "output_type": "stream",
     "text": [
      "guess a number between 1 to 20:  3\n"
     ]
    },
    {
     "name": "stdout",
     "output_type": "stream",
     "text": [
      "too low\n"
     ]
    },
    {
     "name": "stdin",
     "output_type": "stream",
     "text": [
      "guess again:  5\n"
     ]
    },
    {
     "name": "stdout",
     "output_type": "stream",
     "text": [
      "congrates! your guess is correct\n"
     ]
    }
   ],
   "source": [
    "import random \n",
    "\n",
    "random_n = random.randint(1, 20)\n",
    "guess = int(input('guess a number between 1 to 20: '))\n",
    "\n",
    "while guess != random_n:\n",
    "    if guess>random_n:\n",
    "        print('too high')\n",
    "    elif guess<random_n:\n",
    "        print('too low')\n",
    "    guess = int(input('guess again: '))\n",
    "    \n",
    "print('congrates! your guess is correct')"
   ]
  },
  {
   "cell_type": "markdown",
   "id": "c5c4acec-85e1-43ab-bfc1-12ceed8e6d34",
   "metadata": {},
   "source": [
    "## 20. Write a program that finds the greatest common divisor (GCD) of two numbers."
   ]
  },
  {
   "cell_type": "code",
   "execution_count": 54,
   "id": "d9dd8343-79f1-4088-b4c6-cc1e251db2a6",
   "metadata": {},
   "outputs": [
    {
     "name": "stdin",
     "output_type": "stream",
     "text": [
      " 1\n",
      " 0\n"
     ]
    },
    {
     "name": "stdout",
     "output_type": "stream",
     "text": [
      "GCD = 1\n"
     ]
    }
   ],
   "source": [
    "a = int(input())\n",
    "b = int(input())\n",
    "\n",
    "while b:\n",
    "    a, b = b, a%b\n",
    "    \n",
    "print(f'GCD = {a}')"
   ]
  }
 ],
 "metadata": {
  "kernelspec": {
   "display_name": "Python 3 (ipykernel)",
   "language": "python",
   "name": "python3"
  },
  "language_info": {
   "codemirror_mode": {
    "name": "ipython",
    "version": 3
   },
   "file_extension": ".py",
   "mimetype": "text/x-python",
   "name": "python",
   "nbconvert_exporter": "python",
   "pygments_lexer": "ipython3",
   "version": "3.12.0"
  }
 },
 "nbformat": 4,
 "nbformat_minor": 5
}
