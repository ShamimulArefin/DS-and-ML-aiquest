{
 "cells": [
  {
   "cell_type": "markdown",
   "id": "fd9cb59f-ccc1-4c2e-be6d-2ec135909b96",
   "metadata": {},
   "source": [
    "# Assignment on Linear Regression"
   ]
  },
  {
   "cell_type": "markdown",
   "id": "1eaaea8e-a48e-4253-b2e9-33feedb572c0",
   "metadata": {},
   "source": [
    "### Dataset\n",
    "vegetable weights and prices"
   ]
  },
  {
   "cell_type": "code",
   "execution_count": 12,
   "id": "18977ee4-dd5b-4841-935b-805d8906f2ee",
   "metadata": {},
   "outputs": [],
   "source": [
    "Weight = [2, 4, 5, 3, 6, 5, 7]\n",
    "Price = [35, 60, 20, 50, 50, 55, 60]"
   ]
  },
  {
   "cell_type": "markdown",
   "id": "ca64b47a-b750-4b28-bd3d-601046a4be7b",
   "metadata": {},
   "source": [
    "## Task 1\n",
    "compute the slope (M) and y-intercept (C) using Ordinary Least Squares Linear Regression. And apply these values to predict the price when the vegetable weight is 6"
   ]
  },
  {
   "cell_type": "markdown",
   "id": "939e633b-8c62-4217-bf70-d5800880ab57",
   "metadata": {},
   "source": [
    "#### Use numpy to create array and further calculations"
   ]
  },
  {
   "cell_type": "code",
   "execution_count": 5,
   "id": "27a6a111-f3ae-49d9-a0db-7ed70353df9a",
   "metadata": {},
   "outputs": [],
   "source": [
    "import numpy as np"
   ]
  },
  {
   "cell_type": "markdown",
   "id": "cfb36ab2-f6ad-4bb9-b4c0-025c456e0d00",
   "metadata": {},
   "source": [
    "#### Create numpy array X and Y according to Weight and Price"
   ]
  },
  {
   "cell_type": "code",
   "execution_count": 6,
   "id": "d20975cc-ff97-41f5-9623-37ff4c68bddc",
   "metadata": {},
   "outputs": [
    {
     "name": "stdout",
     "output_type": "stream",
     "text": [
      "[2 4 5 3 6 5 7]\n",
      "[35 60 20 50 50 55 60]\n"
     ]
    }
   ],
   "source": [
    "X = np.array(Weight)\n",
    "Y = np.array(Price)\n",
    "\n",
    "print(X)\n",
    "print(Y)"
   ]
  },
  {
   "cell_type": "markdown",
   "id": "3e42fb6a-061d-4827-b28e-28986dfd3665",
   "metadata": {},
   "source": [
    "#### Compute slope (M)\n",
    "$$M = \\frac{\\bar{X} \\bar{Y} - \\overline{XY}}{\\bar{X}^2 - \\overline{X^2}}$$"
   ]
  },
  {
   "cell_type": "code",
   "execution_count": 7,
   "id": "12122ca1-e02d-49f4-86c4-98be5c7c77eb",
   "metadata": {},
   "outputs": [
    {
     "data": {
      "text/plain": [
       "2.620967741935483"
      ]
     },
     "execution_count": 7,
     "metadata": {},
     "output_type": "execute_result"
    }
   ],
   "source": [
    "M = ((X.mean()*Y.mean()) - (X*Y).mean()) / ((X.mean()**2) - (X**2).mean())\n",
    "M"
   ]
  },
  {
   "cell_type": "markdown",
   "id": "27245c81-89e1-4de5-9c59-e84f1278ca2d",
   "metadata": {},
   "source": [
    "#### Compute y-intercept (C)\n",
    "$$C = \\bar{Y} - (M \\cdot \\bar{X})$$"
   ]
  },
  {
   "cell_type": "code",
   "execution_count": 8,
   "id": "5516687b-acaa-44f8-b457-75e88cd5caea",
   "metadata": {},
   "outputs": [
    {
     "data": {
      "text/plain": [
       "35.161290322580655"
      ]
     },
     "execution_count": 8,
     "metadata": {},
     "output_type": "execute_result"
    }
   ],
   "source": [
    "C = Y.mean() - (M * X.mean())\n",
    "C"
   ]
  },
  {
   "cell_type": "markdown",
   "id": "2a41f003-66ad-464d-a6ca-a572fdc89610",
   "metadata": {},
   "source": [
    "#### predict the price when the vegetable weight is 6\n",
    "$$Y = MX + C$$"
   ]
  },
  {
   "cell_type": "code",
   "execution_count": 13,
   "id": "55b3116b-caf3-403c-8e48-3fefd2e3502f",
   "metadata": {},
   "outputs": [
    {
     "data": {
      "text/plain": [
       "50.88709677419355"
      ]
     },
     "execution_count": 13,
     "metadata": {},
     "output_type": "execute_result"
    }
   ],
   "source": [
    "pred_w6 = M * 6 + C\n",
    "pred_w6"
   ]
  },
  {
   "cell_type": "markdown",
   "id": "d54eca9e-35b0-4d72-97c3-fb16ac56ebf6",
   "metadata": {},
   "source": [
    "## Task 2\n",
    "Compute the residuals for each data point"
   ]
  },
  {
   "cell_type": "markdown",
   "id": "7cb93a21-6f13-477d-8f3d-56d9718f7e76",
   "metadata": {},
   "source": [
    "#### Prediction for each weights of dataset"
   ]
  },
  {
   "cell_type": "code",
   "execution_count": 14,
   "id": "23a4c689-2bc7-4ac7-827e-3ca70a440daf",
   "metadata": {},
   "outputs": [
    {
     "data": {
      "text/plain": [
       "array([40.40322581, 45.64516129, 48.26612903, 43.02419355, 50.88709677,\n",
       "       48.26612903, 53.50806452])"
      ]
     },
     "execution_count": 14,
     "metadata": {},
     "output_type": "execute_result"
    }
   ],
   "source": [
    "pred_Y = M * X + C\n",
    "pred_Y"
   ]
  },
  {
   "cell_type": "markdown",
   "id": "9416e66a-8d74-47f9-a5ee-6b3b44362526",
   "metadata": {},
   "source": [
    "#### Residuals\n",
    "$$Residuals = |Y - \\text{pred\\_Y}|$$\n",
    "Here,  \n",
    "Y = Observed weights  \n",
    "pred_Y = Predicted weights"
   ]
  },
  {
   "cell_type": "code",
   "execution_count": 15,
   "id": "32a77064-352b-4ebc-a334-06be995d5a29",
   "metadata": {},
   "outputs": [
    {
     "data": {
      "text/plain": [
       "array([ 5.40322581, 14.35483871, 28.26612903,  6.97580645,  0.88709677,\n",
       "        6.73387097,  6.49193548])"
      ]
     },
     "execution_count": 15,
     "metadata": {},
     "output_type": "execute_result"
    }
   ],
   "source": [
    "Residuals = abs(Y - pred_Y)\n",
    "Residuals"
   ]
  },
  {
   "cell_type": "markdown",
   "id": "7201bf58-9d9c-4604-a8a6-ef4f869ddf02",
   "metadata": {},
   "source": [
    "## Task 3\n",
    "Calculate both the Mean Squared Error (MSE) and Mean Absolute Error (MAE)"
   ]
  },
  {
   "cell_type": "markdown",
   "id": "282428a2-3b6e-4767-9844-e1c9a9ea021e",
   "metadata": {},
   "source": [
    "#### Mean Squared Error (MSE)\n",
    "$$MSE = \\frac{1}{n} \\sum_{i=1}^{n} (\\text{Y}_i - \\text{pred\\_Y}_i)^2$$"
   ]
  },
  {
   "cell_type": "code",
   "execution_count": 16,
   "id": "d7ec9971-deea-4d5a-8190-75c380c43da8",
   "metadata": {},
   "outputs": [
    {
     "data": {
      "text/plain": [
       "167.30990783410138"
      ]
     },
     "execution_count": 16,
     "metadata": {},
     "output_type": "execute_result"
    }
   ],
   "source": [
    "MSE = np.mean((Y - pred_Y)**2)\n",
    "MSE"
   ]
  },
  {
   "cell_type": "markdown",
   "id": "ebcb25ba-e7a3-4fd7-aac4-b2d8a924a3b9",
   "metadata": {},
   "source": [
    "#### Mean Absolute Error (MAE)\n",
    "$$MAE = \\frac{1}{n} \\sum_{i=1}^{n} |\\text{Y}_i - \\text{pred\\_Y}_i|$$"
   ]
  },
  {
   "cell_type": "code",
   "execution_count": 17,
   "id": "c1013f85-0f3b-400a-ac60-24caaf478869",
   "metadata": {},
   "outputs": [
    {
     "data": {
      "text/plain": [
       "9.87327188940092"
      ]
     },
     "execution_count": 17,
     "metadata": {},
     "output_type": "execute_result"
    }
   ],
   "source": [
    "MAE = np.mean(abs(Y-pred_Y))\n",
    "MAE"
   ]
  },
  {
   "cell_type": "markdown",
   "id": "a795a98c-8814-4110-b28f-7468b21dee7a",
   "metadata": {},
   "source": [
    "## Final Task\n",
    "Generate an Excel file for the given dataset."
   ]
  },
  {
   "cell_type": "markdown",
   "id": "6a4e2f06-25a2-41ae-b84c-73c4f59d07b4",
   "metadata": {},
   "source": [
    "#### Use pandas library to generate Excel file"
   ]
  },
  {
   "cell_type": "code",
   "execution_count": 18,
   "id": "9a0c372b-8dd9-49d8-99a3-e80cab45d61b",
   "metadata": {},
   "outputs": [],
   "source": [
    "import pandas as pd"
   ]
  },
  {
   "cell_type": "markdown",
   "id": "84072179-5935-4c9a-8ae0-e6b4185a87e3",
   "metadata": {},
   "source": [
    "#### create dataframe"
   ]
  },
  {
   "cell_type": "code",
   "execution_count": 20,
   "id": "f2393fa9-d9d1-4daa-bc4f-fa529ac55081",
   "metadata": {},
   "outputs": [
    {
     "data": {
      "text/html": [
       "<div>\n",
       "<style scoped>\n",
       "    .dataframe tbody tr th:only-of-type {\n",
       "        vertical-align: middle;\n",
       "    }\n",
       "\n",
       "    .dataframe tbody tr th {\n",
       "        vertical-align: top;\n",
       "    }\n",
       "\n",
       "    .dataframe thead th {\n",
       "        text-align: right;\n",
       "    }\n",
       "</style>\n",
       "<table border=\"1\" class=\"dataframe\">\n",
       "  <thead>\n",
       "    <tr style=\"text-align: right;\">\n",
       "      <th></th>\n",
       "      <th>Weight</th>\n",
       "      <th>Price</th>\n",
       "      <th>Predicted Price</th>\n",
       "      <th>Residuals</th>\n",
       "    </tr>\n",
       "  </thead>\n",
       "  <tbody>\n",
       "    <tr>\n",
       "      <th>0</th>\n",
       "      <td>2</td>\n",
       "      <td>35</td>\n",
       "      <td>40.403226</td>\n",
       "      <td>5.403226</td>\n",
       "    </tr>\n",
       "    <tr>\n",
       "      <th>1</th>\n",
       "      <td>4</td>\n",
       "      <td>60</td>\n",
       "      <td>45.645161</td>\n",
       "      <td>14.354839</td>\n",
       "    </tr>\n",
       "    <tr>\n",
       "      <th>2</th>\n",
       "      <td>5</td>\n",
       "      <td>20</td>\n",
       "      <td>48.266129</td>\n",
       "      <td>28.266129</td>\n",
       "    </tr>\n",
       "    <tr>\n",
       "      <th>3</th>\n",
       "      <td>3</td>\n",
       "      <td>50</td>\n",
       "      <td>43.024194</td>\n",
       "      <td>6.975806</td>\n",
       "    </tr>\n",
       "    <tr>\n",
       "      <th>4</th>\n",
       "      <td>6</td>\n",
       "      <td>50</td>\n",
       "      <td>50.887097</td>\n",
       "      <td>0.887097</td>\n",
       "    </tr>\n",
       "    <tr>\n",
       "      <th>5</th>\n",
       "      <td>5</td>\n",
       "      <td>55</td>\n",
       "      <td>48.266129</td>\n",
       "      <td>6.733871</td>\n",
       "    </tr>\n",
       "    <tr>\n",
       "      <th>6</th>\n",
       "      <td>7</td>\n",
       "      <td>60</td>\n",
       "      <td>53.508065</td>\n",
       "      <td>6.491935</td>\n",
       "    </tr>\n",
       "  </tbody>\n",
       "</table>\n",
       "</div>"
      ],
      "text/plain": [
       "   Weight  Price  Predicted Price  Residuals\n",
       "0       2     35        40.403226   5.403226\n",
       "1       4     60        45.645161  14.354839\n",
       "2       5     20        48.266129  28.266129\n",
       "3       3     50        43.024194   6.975806\n",
       "4       6     50        50.887097   0.887097\n",
       "5       5     55        48.266129   6.733871\n",
       "6       7     60        53.508065   6.491935"
      ]
     },
     "execution_count": 20,
     "metadata": {},
     "output_type": "execute_result"
    }
   ],
   "source": [
    "df = pd.DataFrame({'Weight': X, 'Price': Y, 'Predicted Price': pred_Y, 'Residuals': Residuals})\n",
    "df"
   ]
  },
  {
   "cell_type": "markdown",
   "id": "38fe4ab1-0385-44f5-9013-1d8605fea199",
   "metadata": {},
   "source": [
    "#### generate excel file"
   ]
  },
  {
   "cell_type": "code",
   "execution_count": 21,
   "id": "005bcc54-eab9-457a-8fd2-84f6173fb07a",
   "metadata": {},
   "outputs": [
    {
     "name": "stdout",
     "output_type": "stream",
     "text": [
      "File created successfully.\n"
     ]
    }
   ],
   "source": [
    "df.to_excel('vegetable_data.xlsx', index=False)\n",
    "print('File created successfully.')"
   ]
  },
  {
   "cell_type": "code",
   "execution_count": null,
   "id": "ff84577f-6a51-4360-ac19-43534cf46f1e",
   "metadata": {},
   "outputs": [],
   "source": []
  }
 ],
 "metadata": {
  "kernelspec": {
   "display_name": "Python 3 (ipykernel)",
   "language": "python",
   "name": "python3"
  },
  "language_info": {
   "codemirror_mode": {
    "name": "ipython",
    "version": 3
   },
   "file_extension": ".py",
   "mimetype": "text/x-python",
   "name": "python",
   "nbconvert_exporter": "python",
   "pygments_lexer": "ipython3",
   "version": "3.12.0"
  }
 },
 "nbformat": 4,
 "nbformat_minor": 5
}
