{
 "cells": [
  {
   "cell_type": "markdown",
   "id": "fda3421e-e815-45e8-97cb-0c7d13ef4a87",
   "metadata": {
    "jp-MarkdownHeadingCollapsed": true
   },
   "source": [
    "# Basic Problems"
   ]
  },
  {
   "cell_type": "markdown",
   "id": "9c74d61f-5e4a-4862-94e3-5f73884becc7",
   "metadata": {},
   "source": [
    "## 1. Variable Swap: Write a Python program to swap the values of two variables without using a temporary variable."
   ]
  },
  {
   "cell_type": "code",
   "execution_count": 1,
   "id": "bee998c0-bc56-44ee-8ccc-28868a494fbd",
   "metadata": {},
   "outputs": [
    {
     "name": "stdout",
     "output_type": "stream",
     "text": [
      "2 1\n"
     ]
    }
   ],
   "source": [
    "a, b = 1, 2\n",
    "a, b = b, a\n",
    "print(a, b)"
   ]
  },
  {
   "cell_type": "markdown",
   "id": "73797eb3-6256-4ed9-bab3-f65b27c88a4a",
   "metadata": {},
   "source": [
    "## 2. Even or Odd: Write a Python program that takes an integer as input and prints whether it is even or odd."
   ]
  },
  {
   "cell_type": "code",
   "execution_count": 2,
   "id": "d4de9ffc-d795-403b-b26a-495b11013836",
   "metadata": {},
   "outputs": [
    {
     "name": "stdin",
     "output_type": "stream",
     "text": [
      " 5\n"
     ]
    },
    {
     "name": "stdout",
     "output_type": "stream",
     "text": [
      "odd\n"
     ]
    }
   ],
   "source": [
    "n = int(input())\n",
    "if n%2==0:\n",
    "    print('even')\n",
    "else:\n",
    "    print('odd')"
   ]
  },
  {
   "cell_type": "markdown",
   "id": "7fe656e8-9f55-441a-8a3b-541e1070456b",
   "metadata": {},
   "source": [
    "## 3. String Reverse: Write a Python function to reverse a given string and return the reversed string."
   ]
  },
  {
   "cell_type": "code",
   "execution_count": 3,
   "id": "6cc06391-dc24-4675-8cb4-9a7496c91fe6",
   "metadata": {},
   "outputs": [
    {
     "name": "stdout",
     "output_type": "stream",
     "text": [
      "desrever\n"
     ]
    }
   ],
   "source": [
    "def reverse_string(s):\n",
    "    return ''.join(reversed(s))\n",
    "\n",
    "print(reverse_string('reversed'))"
   ]
  },
  {
   "cell_type": "markdown",
   "id": "7755bb20-8766-40b4-ba86-1f8e60bbff2b",
   "metadata": {},
   "source": [
    "## 4. Type Conversion: Given a list of integers, write a Python program to convert each element of the list to a string."
   ]
  },
  {
   "cell_type": "code",
   "execution_count": 13,
   "id": "f5a69b83-977a-4766-b7e1-0bb91a21a5fe",
   "metadata": {},
   "outputs": [
    {
     "name": "stdout",
     "output_type": "stream",
     "text": [
      "['1', '2', '3', '4', '5']\n"
     ]
    }
   ],
   "source": [
    "lstN = [1, 2, 3, 4, 5]\n",
    "lstS = [str(n) for n in lstN]\n",
    "print(lstS)"
   ]
  },
  {
   "cell_type": "markdown",
   "id": "8c8bf0c7-14da-40d7-83dc-61afd12a4d6f",
   "metadata": {},
   "source": [
    "## 5. Temperature Converter: Write a Python program that converts a temperature in Celsius to Fahrenheit. Take the Celsius temperature as input from the user."
   ]
  },
  {
   "cell_type": "code",
   "execution_count": 14,
   "id": "b078b4f3-f7eb-4f84-b55b-dead8fa5b9a7",
   "metadata": {},
   "outputs": [
    {
     "name": "stdin",
     "output_type": "stream",
     "text": [
      " 36.6\n"
     ]
    },
    {
     "name": "stdout",
     "output_type": "stream",
     "text": [
      "97.88000000000001\n"
     ]
    }
   ],
   "source": [
    "celsius = float(input())\n",
    "fahrenheit = (celsius * 9/5) + 32\n",
    "print(fahrenheit)"
   ]
  },
  {
   "cell_type": "markdown",
   "id": "ad5e991a-36d2-475c-8b1f-8ecae832705f",
   "metadata": {},
   "source": [
    "## 6. Data Type Checker: Write a Python function that takes a variable as input and returns the data type of the variable as a string (e.g., “int”, “float”, “str”, “list”, etc.)"
   ]
  },
  {
   "cell_type": "code",
   "execution_count": 16,
   "id": "7381b784-0de5-45eb-a5e8-d6ae675ad1d3",
   "metadata": {},
   "outputs": [
    {
     "name": "stdout",
     "output_type": "stream",
     "text": [
      "int\n",
      "float\n",
      "str\n",
      "list\n",
      "dict\n"
     ]
    }
   ],
   "source": [
    "def check_data_type(data):\n",
    "    return str(type(data).__name__)\n",
    "\n",
    "print(check_data_type(1))\n",
    "print(check_data_type(1.02))\n",
    "print(check_data_type('1'))\n",
    "print(check_data_type([1]))\n",
    "print(check_data_type({'1':'one'}))"
   ]
  },
  {
   "cell_type": "markdown",
   "id": "3abcbe4b-e97e-46bc-b224-0709ffb3963a",
   "metadata": {},
   "source": [
    "## 7. String Palindrome: Write a Python function to check if a given string is a palindrome or not."
   ]
  },
  {
   "cell_type": "code",
   "execution_count": 19,
   "id": "94f6618f-d2a7-4002-82e2-7bddedfa0ec8",
   "metadata": {},
   "outputs": [
    {
     "data": {
      "text/plain": [
       "'not palindrome'"
      ]
     },
     "execution_count": 19,
     "metadata": {},
     "output_type": "execute_result"
    }
   ],
   "source": [
    "def check_palindrome(s):\n",
    "    return (('not palindrome', 'palindrome') [s == s[::-1]])\n",
    "\n",
    "check_palindrome('python')"
   ]
  },
  {
   "cell_type": "markdown",
   "id": "29e41ab3-9c49-4277-a46d-6e2d5b8ce268",
   "metadata": {},
   "source": [
    "## 8. String Reversal with Slicing: Write a Python function to reverse a given string using slicing."
   ]
  },
  {
   "cell_type": "code",
   "execution_count": 24,
   "id": "53bf781c-7970-476e-800d-0daa0cd23d01",
   "metadata": {},
   "outputs": [
    {
     "data": {
      "text/plain": [
       "'desrever gnicils'"
      ]
     },
     "execution_count": 24,
     "metadata": {},
     "output_type": "execute_result"
    }
   ],
   "source": [
    "def slicing_reverse(s):\n",
    "    return s[::-1]\n",
    "\n",
    "slicing_reverse('slicing reversed')"
   ]
  },
  {
   "cell_type": "markdown",
   "id": "fa9151cc-b92f-4b37-b0da-c127b306ae9a",
   "metadata": {},
   "source": [
    "## 9. String Concatenation: Write a Python program that takes two strings as input and concatenates them into a single string without using the `+` operator."
   ]
  },
  {
   "cell_type": "code",
   "execution_count": 28,
   "id": "92be884d-34a8-4e2a-aa77-b05b4ea0d8bb",
   "metadata": {},
   "outputs": [
    {
     "name": "stdin",
     "output_type": "stream",
     "text": [
      " python\n",
      " program\n"
     ]
    },
    {
     "data": {
      "text/plain": [
       "'python program'"
      ]
     },
     "execution_count": 28,
     "metadata": {},
     "output_type": "execute_result"
    }
   ],
   "source": [
    "s1 = input()\n",
    "s2 = input()\n",
    "s = ' '.join([s1, s2])\n",
    "s"
   ]
  },
  {
   "cell_type": "markdown",
   "id": "1da7fa27-8f2d-44cd-a093-07820156f31d",
   "metadata": {},
   "source": [
    "## 10. Typecasting Challenge: Given three variables: `a = ‘100’`, `b = 25`, and `c = ‘10.5’`, write a Python program to perform the following operations and print the results: – Convert `a` to an integer and add it to `b`. – Convert `c` to a float and subtract it from the result of the first operation. – Convert the final result to a string and concatenate it with the string ” is the answer.”"
   ]
  },
  {
   "cell_type": "code",
   "execution_count": 31,
   "id": "f260bc72-e7ff-496d-821e-e76f25811a40",
   "metadata": {},
   "outputs": [
    {
     "data": {
      "text/plain": [
       "'114.5 is the answer.'"
      ]
     },
     "execution_count": 31,
     "metadata": {},
     "output_type": "execute_result"
    }
   ],
   "source": [
    "a = '100'\n",
    "b = 25\n",
    "c = '10.5'\n",
    "\n",
    "sum_ab = int(a) + b\n",
    "substract_c = sum_ab - float(c)\n",
    "concatenate_string = str(substract_c) + \" is the answer.\"\n",
    "concatenate_string"
   ]
  },
  {
   "cell_type": "markdown",
   "id": "15a9a31e-5318-4f9b-978d-3985735c1695",
   "metadata": {
    "jp-MarkdownHeadingCollapsed": true
   },
   "source": [
    "# Python Conditional Statements"
   ]
  },
  {
   "cell_type": "markdown",
   "id": "11f97211-7865-48bf-84c1-8bae0bdad797",
   "metadata": {},
   "source": [
    "## 11. Positive, Negative, or Zero: Write a Python program that takes a number as input and prints whether it is positive, negative, or zero."
   ]
  },
  {
   "cell_type": "code",
   "execution_count": 33,
   "id": "500bfdb3-a5da-4f9d-812a-6ba151323197",
   "metadata": {},
   "outputs": [
    {
     "name": "stdin",
     "output_type": "stream",
     "text": [
      " -12\n"
     ]
    },
    {
     "data": {
      "text/plain": [
       "'negative'"
      ]
     },
     "execution_count": 33,
     "metadata": {},
     "output_type": "execute_result"
    }
   ],
   "source": [
    "n = int(input())\n",
    "result = 'positive' if n > 0 else ('negative' if n < 0 else 'zero')\n",
    "result"
   ]
  },
  {
   "cell_type": "markdown",
   "id": "55843cc8-75a0-4030-a666-571a2eb3a9af",
   "metadata": {},
   "source": [
    "## 12. Largest of Three Numbers: Write a Python program that takes three numbers as input and prints the largest among them."
   ]
  },
  {
   "cell_type": "code",
   "execution_count": 34,
   "id": "bd162019-8627-416b-86ad-0ba5a202d341",
   "metadata": {},
   "outputs": [
    {
     "name": "stdin",
     "output_type": "stream",
     "text": [
      " 1 2 3\n"
     ]
    },
    {
     "data": {
      "text/plain": [
       "3"
      ]
     },
     "execution_count": 34,
     "metadata": {},
     "output_type": "execute_result"
    }
   ],
   "source": [
    "a, b, c = map(int, input().split())\n",
    "largest = a if a > b and a > c else (b if b > c else c)\n",
    "largest"
   ]
  },
  {
   "cell_type": "markdown",
   "id": "fc2a6056-c3b5-45ae-99d1-6b635f85e1e8",
   "metadata": {},
   "source": [
    "## 13. Leap Year Checker: Write a Python program that takes a year as input and determines if it is a leap year or not."
   ]
  },
  {
   "cell_type": "code",
   "execution_count": 35,
   "id": "b6bcf0a2-34c1-4e1e-bd0b-30d4286cd0a7",
   "metadata": {},
   "outputs": [
    {
     "name": "stdin",
     "output_type": "stream",
     "text": [
      " 2024\n"
     ]
    },
    {
     "name": "stdout",
     "output_type": "stream",
     "text": [
      "leap year\n"
     ]
    }
   ],
   "source": [
    "year = int(input())\n",
    "if (year % 4 == 0 and year % 100 != 0) or (year % 400 == 0):\n",
    "    print('leap year')\n",
    "else:\n",
    "    print('not leap year')"
   ]
  },
  {
   "cell_type": "markdown",
   "id": "e2c4b652-5f24-43f8-b5c0-df7a45433f45",
   "metadata": {},
   "source": [
    "## 14. Grades Classification: Write a Python program that takes a student’s percentage as input and prints their corresponding grade according to the following criteria: – 90% or above: A+ – 80-89%: A – 70-79%: B – 60-69%: C – Below 60%: Fail"
   ]
  },
  {
   "cell_type": "code",
   "execution_count": 36,
   "id": "3bfa5abb-2e4e-4bf3-8d18-ff5aea76ce8f",
   "metadata": {},
   "outputs": [
    {
     "name": "stdin",
     "output_type": "stream",
     "text": [
      " 86.7\n"
     ]
    },
    {
     "name": "stdout",
     "output_type": "stream",
     "text": [
      "A\n"
     ]
    }
   ],
   "source": [
    "percentage = float(input())\n",
    "\n",
    "if percentage >= 90:\n",
    "    print('A+')\n",
    "elif percentage >= 80:\n",
    "    print('A')\n",
    "elif percentage >= 70:\n",
    "    print('B')\n",
    "elif percentage >= 60:\n",
    "    print('C')\n",
    "else:\n",
    "    print('F')"
   ]
  },
  {
   "cell_type": "markdown",
   "id": "83a04a8d-ce24-4e47-8134-6e63e1a36c49",
   "metadata": {},
   "source": [
    "## 15. Vowel or Consonant: Write a Python program that takes a single character as input and determines whether it is a vowel or a consonant."
   ]
  },
  {
   "cell_type": "code",
   "execution_count": 37,
   "id": "42ec5477-78db-4b86-a35b-b4feb4da05a8",
   "metadata": {},
   "outputs": [
    {
     "name": "stdin",
     "output_type": "stream",
     "text": [
      " G\n"
     ]
    },
    {
     "name": "stdout",
     "output_type": "stream",
     "text": [
      "consonant\n"
     ]
    }
   ],
   "source": [
    "c = input()\n",
    "if c.lower() in ('a', 'e', 'i', 'o', 'u'):\n",
    "    print('vowel')\n",
    "else:\n",
    "    print('consonant')"
   ]
  },
  {
   "cell_type": "markdown",
   "id": "010c45c4-4846-4ccf-a69a-2d0b75891b8a",
   "metadata": {},
   "source": [
    "## 16. Time Classification: Write a Python program that takes the time in hours (24-hour format) as input and prints “Good Morning”, “Good Afternoon”, “Good Evening”, or “Good Night” based on the time."
   ]
  },
  {
   "cell_type": "code",
   "execution_count": 38,
   "id": "b4e6164c-a68b-49b2-8368-1b7f5d4a8057",
   "metadata": {},
   "outputs": [
    {
     "name": "stdin",
     "output_type": "stream",
     "text": [
      "24 hour format (HH):  13\n"
     ]
    },
    {
     "name": "stdout",
     "output_type": "stream",
     "text": [
      "Good Afternoon\n"
     ]
    }
   ],
   "source": [
    "hour = int(input('24 hour format (HH): '))\n",
    "if hour >= 0 and hour < 12:\n",
    "    print(\"Good Morning\")\n",
    "elif hour >= 12 and hour < 17:\n",
    "    print(\"Good Afternoon\")\n",
    "elif hour >= 17 and hour <= 19:\n",
    "    print(\"Good Evening\")\n",
    "else:\n",
    "    print(\"Good Night\")"
   ]
  },
  {
   "cell_type": "markdown",
   "id": "c9d21416-581b-45b6-a5b4-67e124e9e5d6",
   "metadata": {},
   "source": [
    "## 17. Triangle Type Checker: Write a Python program that takes three sides of a triangle as input and determines whether it forms an equilateral, isosceles, or scalene triangle."
   ]
  },
  {
   "cell_type": "code",
   "execution_count": 39,
   "id": "e162c9e4-e861-4dfd-8340-7d3d3e1aafb4",
   "metadata": {},
   "outputs": [
    {
     "name": "stdin",
     "output_type": "stream",
     "text": [
      " 4 5 6\n"
     ]
    },
    {
     "name": "stdout",
     "output_type": "stream",
     "text": [
      "scalene triangle\n"
     ]
    }
   ],
   "source": [
    "a, b, c = map(int, input().split())\n",
    "if a==b and b==c:\n",
    "    print('equilateral triangle')\n",
    "elif (a==b and b!=c) or (a==c and c!=b) or (b==c and a!=b):\n",
    "    print('isosceles triangle')\n",
    "else:\n",
    "    print('scalene triangle')"
   ]
  },
  {
   "cell_type": "markdown",
   "id": "7db3b0fc-09e2-4829-a612-2c417a9af251",
   "metadata": {},
   "source": [
    "## 18.Quadratic Equation Solver: Write a Python program that takes the coefficients (a, b, c) of a quadratic equation as input and calculates and prints the real roots (if they exist) or a message indicating the complex roots.\n"
   ]
  },
  {
   "cell_type": "code",
   "execution_count": 14,
   "id": "8d3910f8-2be2-4124-bd1c-ac50174097db",
   "metadata": {},
   "outputs": [
    {
     "name": "stdin",
     "output_type": "stream",
     "text": [
      " 1 1 1\n"
     ]
    },
    {
     "name": "stdout",
     "output_type": "stream",
     "text": [
      "Complex roots: (-0.5, 0.8660254037844386) and (-0.5, -0.8660254037844386)\n"
     ]
    }
   ],
   "source": [
    "import math\n",
    "\n",
    "a, b, c = map(int, input().split())\n",
    "\n",
    "d = (b * b) - (4 * a * c)\n",
    "\n",
    "if d >= 0:\n",
    "    if d == 0:\n",
    "        print(f'Real same root: {-b / (2 * a)}')\n",
    "    else:\n",
    "        d_sqrt = math.sqrt(d)\n",
    "        r1 = (-b + d_sqrt) / (2 * a)\n",
    "        r2 = (-b - d_sqrt) / (2 * a)\n",
    "        print(f'Real different roots: {r1} and {r2}')\n",
    "else:\n",
    "    d_sqrt = math.sqrt(abs(d))\n",
    "    real_part = -b / (2 * a)\n",
    "    imag_part = d_sqrt / (2 * a)\n",
    "    r1 = (real_part, imag_part)\n",
    "    r2 = (real_part, -imag_part)\n",
    "    print(f'Complex roots: {r1} and {r2}')"
   ]
  },
  {
   "cell_type": "markdown",
   "id": "c6155c7a-151d-4161-af77-1fb1cc68f2b4",
   "metadata": {},
   "source": [
    "## 19. Number Ranges: Write a Python program that takes an integer as input and prints whether the number falls within the ranges: 0-50, 51-100, 101-150, or above 150."
   ]
  },
  {
   "cell_type": "code",
   "execution_count": 9,
   "id": "cda91bd9-889b-4354-90cb-acbf57e80ac0",
   "metadata": {},
   "outputs": [
    {
     "name": "stdin",
     "output_type": "stream",
     "text": [
      " 152\n"
     ]
    },
    {
     "name": "stdout",
     "output_type": "stream",
     "text": [
      "152 above 150\n"
     ]
    }
   ],
   "source": [
    "n = int(input())\n",
    "\n",
    "if n in range(0, 51):\n",
    "    print(f'{n} falls in 0-50')\n",
    "elif n in range(51, 101):\n",
    "    print(f'{n} falls in 51-100')\n",
    "elif n in range(101, 151):\n",
    "    print(f'{n} falls in 101-150')\n",
    "else:\n",
    "    print(f'{n} above 150')"
   ]
  },
  {
   "cell_type": "markdown",
   "id": "6ab474f4-ad19-49db-8375-f9a8fb271a78",
   "metadata": {
    "jp-MarkdownHeadingCollapsed": true
   },
   "source": [
    "# For & While Loops"
   ]
  },
  {
   "cell_type": "markdown",
   "id": "033f37ae-405e-47d0-8220-abd125a33646",
   "metadata": {},
   "source": [
    "## 20. Sum of N Numbers: Write a Python program using a for loop to calculate the sum of the first N natural numbers, where N is taken as input from the user."
   ]
  },
  {
   "cell_type": "code",
   "execution_count": 15,
   "id": "da02ede3-3bb6-48e0-ab1d-a31f5fae95fe",
   "metadata": {},
   "outputs": [
    {
     "name": "stdin",
     "output_type": "stream",
     "text": [
      " 10\n"
     ]
    },
    {
     "data": {
      "text/plain": [
       "55"
      ]
     },
     "execution_count": 15,
     "metadata": {},
     "output_type": "execute_result"
    }
   ],
   "source": [
    "N = int(input())\n",
    "sum = 0\n",
    "\n",
    "for i in range(1, N+1):\n",
    "    sum += i\n",
    "\n",
    "sum"
   ]
  },
  {
   "cell_type": "markdown",
   "id": "756c9716-c611-45d0-a9ca-52ac79e3e849",
   "metadata": {},
   "source": [
    "## 21. Factorial Calculator: Write a Python program using a while loop to calculate the factorial of a given number N."
   ]
  },
  {
   "cell_type": "code",
   "execution_count": 16,
   "id": "09fa2c83-8aa5-46ff-afbd-b1dd397c94c4",
   "metadata": {},
   "outputs": [
    {
     "data": {
      "text/plain": [
       "120"
      ]
     },
     "execution_count": 16,
     "metadata": {},
     "output_type": "execute_result"
    }
   ],
   "source": [
    "N = 5\n",
    "fact = 1\n",
    "while N>0:\n",
    "    fact *= N\n",
    "    N -= 1\n",
    "\n",
    "fact"
   ]
  },
  {
   "cell_type": "markdown",
   "id": "116c0bf5-c51c-4345-8942-2f1e4588bbb8",
   "metadata": {},
   "source": [
    "## 22. Table of a Number: Write a Python program using a for loop to print the multiplication table of a given number N."
   ]
  },
  {
   "cell_type": "code",
   "execution_count": 17,
   "id": "733613bc-dae5-4d6d-8585-6967fc3105bf",
   "metadata": {},
   "outputs": [
    {
     "name": "stdout",
     "output_type": "stream",
     "text": [
      "multiplication table of 13\n",
      "13 x 1 = 13\n",
      "13 x 2 = 26\n",
      "13 x 3 = 39\n",
      "13 x 4 = 52\n",
      "13 x 5 = 65\n",
      "13 x 6 = 78\n",
      "13 x 7 = 91\n",
      "13 x 8 = 104\n",
      "13 x 9 = 117\n",
      "13 x 10 = 130\n"
     ]
    }
   ],
   "source": [
    "n = 13\n",
    "print(f'multiplication table of {n}')\n",
    "for i in range(1, 11):\n",
    "    print(f'{n} x {i} = {n*i}')"
   ]
  },
  {
   "cell_type": "markdown",
   "id": "abae1a96-9afc-4808-8e8d-780ac9d7b8f5",
   "metadata": {},
   "source": [
    "## 23. Count Digits in a Number: Write a Python program using a while loop to count the number of digits in a given integer N."
   ]
  },
  {
   "cell_type": "code",
   "execution_count": 21,
   "id": "fcedb739-b96a-44e7-bfae-955dcd742ee5",
   "metadata": {},
   "outputs": [
    {
     "data": {
      "text/plain": [
       "5"
      ]
     },
     "execution_count": 21,
     "metadata": {},
     "output_type": "execute_result"
    }
   ],
   "source": [
    "N = 83432\n",
    "count = 0\n",
    "\n",
    "if N in range(0, 10):\n",
    "    count = 1\n",
    "else:\n",
    "    while N>0:\n",
    "        count += 1\n",
    "        N //= 10\n",
    "\n",
    "count"
   ]
  },
  {
   "cell_type": "markdown",
   "id": "bdbd2f2e-c2ba-41b5-80ad-5eabef1839b5",
   "metadata": {},
   "source": [
    "## 24. Fibonacci Sequence: Write a Python program using a for loop to generate the Fibonacci sequence up to a given limit N."
   ]
  },
  {
   "cell_type": "code",
   "execution_count": 26,
   "id": "3aa21fe2-5f31-457a-86cb-d2198b3e24c5",
   "metadata": {},
   "outputs": [
    {
     "name": "stdout",
     "output_type": "stream",
     "text": [
      "0 1 1 2 3 5 8 13 21 "
     ]
    }
   ],
   "source": [
    "N = 9\n",
    "n1, n2 = 0, 1\n",
    "print(n1, n2, end=' ')\n",
    "\n",
    "for _ in range(2, N):\n",
    "    t = n1 + n2\n",
    "    print(t, end=' ')\n",
    "    n1, n2 = n2, t"
   ]
  },
  {
   "cell_type": "markdown",
   "id": "22abbb3b-8fc2-4ba7-ac3a-e655d85158e6",
   "metadata": {},
   "source": [
    "## 25. Sum of Even Numbers: Write a Python program using a while loop to calculate the sum of all even numbers between 1 and N, where N is taken as input from the user."
   ]
  },
  {
   "cell_type": "code",
   "execution_count": 27,
   "id": "dc1a08d1-8718-4c87-b150-50eb8081fe5a",
   "metadata": {},
   "outputs": [
    {
     "name": "stdin",
     "output_type": "stream",
     "text": [
      " 10\n"
     ]
    },
    {
     "data": {
      "text/plain": [
       "30"
      ]
     },
     "execution_count": 27,
     "metadata": {},
     "output_type": "execute_result"
    }
   ],
   "source": [
    "N = int(input())\n",
    "sum = 0\n",
    "\n",
    "while N>0:\n",
    "    if N%2==0:\n",
    "        sum += N\n",
    "    N -= 1\n",
    "\n",
    "sum"
   ]
  },
  {
   "cell_type": "markdown",
   "id": "7e79b929-613a-4bea-bd5b-99b0f7ae50d5",
   "metadata": {},
   "source": [
    "## 26. Print Patterns: Write a Python program using nested for loops to print various patterns, such as a right-angled triangle, an inverted right-angled triangle, and so on."
   ]
  },
  {
   "cell_type": "code",
   "execution_count": 30,
   "id": "6350b407-9153-4294-be3c-89cc650f94d3",
   "metadata": {},
   "outputs": [
    {
     "name": "stdout",
     "output_type": "stream",
     "text": [
      "right-angled triangle\n",
      "* \n",
      "* * \n",
      "* * * \n",
      "* * * * \n",
      "* * * * * \n",
      "inverted right-angled triangle\n",
      "* * * * * \n",
      "* * * * \n",
      "* * * \n",
      "* * \n",
      "* \n",
      "equilateral triangle\n",
      "        * \n",
      "      * * * \n",
      "    * * * * * \n",
      "  * * * * * * * \n",
      "* * * * * * * * * \n"
     ]
    }
   ],
   "source": [
    "n = 5\n",
    "\n",
    "print('right-angled triangle')\n",
    "for i in range(1, n + 1):\n",
    "    for j in range(1, i + 1):\n",
    "        print(\"*\", end=\" \")\n",
    "    print()\n",
    "\n",
    "print('inverted right-angled triangle')\n",
    "for i in range(n, 0, -1):\n",
    "    for j in range(1, i + 1):\n",
    "        print(\"*\", end=\" \")\n",
    "    print()\n",
    "\n",
    "print('equilateral triangle')\n",
    "for i in range(1, n + 1):\n",
    "    for _ in range(n - i):\n",
    "        print(\" \", end=\" \")\n",
    "    for _ in range(2 * i - 1):\n",
    "        print(\"*\", end=\" \")\n",
    "    print()"
   ]
  },
  {
   "cell_type": "markdown",
   "id": "dcf85b4d-7b36-4c43-929b-2f87f27073c6",
   "metadata": {},
   "source": [
    "## 27. Prime Number Checker: Write a Python program using a while loop to check if a given number N is prime or not."
   ]
  },
  {
   "cell_type": "code",
   "execution_count": 35,
   "id": "02374fe3-6ad0-470a-affe-0dfd3133ed65",
   "metadata": {},
   "outputs": [
    {
     "name": "stdout",
     "output_type": "stream",
     "text": [
      "68 is not prime\n"
     ]
    }
   ],
   "source": [
    "n = 68\n",
    "\n",
    "if n <= 1:\n",
    "    print(f'{n} is not prime')\n",
    "else:\n",
    "    flag = 0\n",
    "    i = 2\n",
    "    while i <= int(n**0.5):\n",
    "        if n % i == 0:\n",
    "            flag = 1\n",
    "            break\n",
    "        i += 1\n",
    "\n",
    "    if flag == 0:\n",
    "        print(f'{n} is prime')\n",
    "    else:\n",
    "        print(f'{n} is not prime')"
   ]
  },
  {
   "cell_type": "markdown",
   "id": "795e27a9-b010-4437-b768-1f5684902c4a",
   "metadata": {},
   "source": [
    "## 28. List Manipulation: Given a list of integers, write a Python program using a for loop to find the sum, average, maximum, and minimum values in the list."
   ]
  },
  {
   "cell_type": "code",
   "execution_count": 41,
   "id": "e9be0215-868d-4887-81ce-9fd856a47ee6",
   "metadata": {},
   "outputs": [
    {
     "name": "stdout",
     "output_type": "stream",
     "text": [
      "Sum = 222\n",
      "Average = 24.67\n",
      "Maximum = 76\n",
      "Minimum = 1\n"
     ]
    }
   ],
   "source": [
    "lst = [1, 3, 6, 34, 67, 24, 76, 2, 9]\n",
    "sum, count, max, min = 0, 0, 0, lst[0]\n",
    "\n",
    "for i in lst:\n",
    "    sum += i\n",
    "    count += 1\n",
    "    if max<i:\n",
    "        max = i\n",
    "    if min>i:\n",
    "        min = i\n",
    "        \n",
    "print(f'Sum = {sum}\\nAverage = {(sum/count):.2f}\\nMaximum = {max}\\nMinimum = {min}')\n",
    "    "
   ]
  },
  {
   "cell_type": "markdown",
   "id": "80e5a924-22a2-4aed-ae05-e0cc29bfdf38",
   "metadata": {},
   "source": [
    "## 29. Reverse String: Write a Python program using a while loop to reverse a given string."
   ]
  },
  {
   "cell_type": "code",
   "execution_count": 42,
   "id": "96513306-7da4-4507-9541-231db23fac23",
   "metadata": {},
   "outputs": [
    {
     "data": {
      "text/plain": [
       "'esrever'"
      ]
     },
     "execution_count": 42,
     "metadata": {},
     "output_type": "execute_result"
    }
   ],
   "source": [
    "st = 'reverse'\n",
    "r_st = ''\n",
    "l = len(st)-1\n",
    "while l>=0:\n",
    "    r_st += st[l]\n",
    "    l -= 1\n",
    "\n",
    "r_st"
   ]
  },
  {
   "cell_type": "markdown",
   "id": "92807bb3-d80e-40ae-8927-a6df6dcf1c3b",
   "metadata": {
    "jp-MarkdownHeadingCollapsed": true
   },
   "source": [
    "# Nested Loops"
   ]
  },
  {
   "cell_type": "markdown",
   "id": "76b4d0ee-3a62-4a82-8ab4-663ccf24ebe8",
   "metadata": {},
   "source": [
    "## 30. Multiplication Table: Write a Python program using nested loops to print the multiplication table from 1 to 10."
   ]
  },
  {
   "cell_type": "code",
   "execution_count": 1,
   "id": "5d928c29-ef44-4818-8282-db00181c2cfb",
   "metadata": {},
   "outputs": [
    {
     "name": "stdout",
     "output_type": "stream",
     "text": [
      "1 * 1 = 1  1 * 2 = 2  1 * 3 = 3  1 * 4 = 4  1 * 5 = 5  1 * 6 = 6  1 * 7 = 7  1 * 8 = 8  1 * 9 = 9  1 * 10 = 10  \n",
      "2 * 1 = 2  2 * 2 = 4  2 * 3 = 6  2 * 4 = 8  2 * 5 = 10  2 * 6 = 12  2 * 7 = 14  2 * 8 = 16  2 * 9 = 18  2 * 10 = 20  \n",
      "3 * 1 = 3  3 * 2 = 6  3 * 3 = 9  3 * 4 = 12  3 * 5 = 15  3 * 6 = 18  3 * 7 = 21  3 * 8 = 24  3 * 9 = 27  3 * 10 = 30  \n",
      "4 * 1 = 4  4 * 2 = 8  4 * 3 = 12  4 * 4 = 16  4 * 5 = 20  4 * 6 = 24  4 * 7 = 28  4 * 8 = 32  4 * 9 = 36  4 * 10 = 40  \n",
      "5 * 1 = 5  5 * 2 = 10  5 * 3 = 15  5 * 4 = 20  5 * 5 = 25  5 * 6 = 30  5 * 7 = 35  5 * 8 = 40  5 * 9 = 45  5 * 10 = 50  \n",
      "6 * 1 = 6  6 * 2 = 12  6 * 3 = 18  6 * 4 = 24  6 * 5 = 30  6 * 6 = 36  6 * 7 = 42  6 * 8 = 48  6 * 9 = 54  6 * 10 = 60  \n",
      "7 * 1 = 7  7 * 2 = 14  7 * 3 = 21  7 * 4 = 28  7 * 5 = 35  7 * 6 = 42  7 * 7 = 49  7 * 8 = 56  7 * 9 = 63  7 * 10 = 70  \n",
      "8 * 1 = 8  8 * 2 = 16  8 * 3 = 24  8 * 4 = 32  8 * 5 = 40  8 * 6 = 48  8 * 7 = 56  8 * 8 = 64  8 * 9 = 72  8 * 10 = 80  \n",
      "9 * 1 = 9  9 * 2 = 18  9 * 3 = 27  9 * 4 = 36  9 * 5 = 45  9 * 6 = 54  9 * 7 = 63  9 * 8 = 72  9 * 9 = 81  9 * 10 = 90  \n",
      "10 * 1 = 10  10 * 2 = 20  10 * 3 = 30  10 * 4 = 40  10 * 5 = 50  10 * 6 = 60  10 * 7 = 70  10 * 8 = 80  10 * 9 = 90  10 * 10 = 100  \n"
     ]
    }
   ],
   "source": [
    "for i in range(1, 11):\n",
    "    for j in range(1, 11):\n",
    "        print(f\"{i} * {j} = {i*j}\", end='  ')\n",
    "    print()"
   ]
  },
  {
   "cell_type": "markdown",
   "id": "c5c6c5a1-2cdb-4c69-8a1f-79f6af8cf51f",
   "metadata": {},
   "source": [
    "## 31. Print Patterns: Write a Python program using nested loops to print the following pattern:\n",
    "\n",
    "*\n",
    "**\n",
    "***\n",
    "****\n",
    "*****"
   ]
  },
  {
   "cell_type": "code",
   "execution_count": 4,
   "id": "ddf4ccba-b6dc-424f-8a45-dabfcf581ce8",
   "metadata": {},
   "outputs": [
    {
     "name": "stdout",
     "output_type": "stream",
     "text": [
      "*\n",
      "**\n",
      "***\n",
      "****\n",
      "*****\n"
     ]
    }
   ],
   "source": [
    "for i in range(1, 6):\n",
    "    for j in range(1, i + 1):\n",
    "        print(\"*\", end='')\n",
    "    print()"
   ]
  },
  {
   "cell_type": "markdown",
   "id": "75f43c04-e112-481e-ad07-e0469d9e273e",
   "metadata": {},
   "source": [
    "## 32. Matrix Multiplication: Write a Python program using nested loops to multiply two matrices."
   ]
  },
  {
   "cell_type": "code",
   "execution_count": 6,
   "id": "6e00ba34-41e6-42bf-8215-3681345a3511",
   "metadata": {},
   "outputs": [
    {
     "name": "stdout",
     "output_type": "stream",
     "text": [
      "[30, 24, 18]\n",
      "[84, 69, 54]\n",
      "[138, 114, 90]\n"
     ]
    }
   ],
   "source": [
    "a = [\n",
    "    [1, 2, 3],\n",
    "    [4, 5, 6],\n",
    "    [7, 8, 9]\n",
    "]\n",
    "\n",
    "b = [\n",
    "    [9, 8, 7],\n",
    "    [6, 5, 4],\n",
    "    [3, 2, 1]\n",
    "]\n",
    "\n",
    "output = [[0] * len(b[0]) for _ in range(len(a))]\n",
    "\n",
    "for i in range(len(a)):\n",
    "    for j in range(len(b[0])):\n",
    "        for k in range(len(b)):\n",
    "            output[i][j] += a[i][k] * b[k][j]\n",
    "# print\n",
    "for i in output:\n",
    "    print(i)"
   ]
  },
  {
   "cell_type": "markdown",
   "id": "0a463188-171c-4661-8cee-5aed1ae0cd3d",
   "metadata": {},
   "source": [
    "## 33. Chessboard Pattern: Write a Python program using nested loops to print a chessboard pattern (alternating “X” and “O” characters) of size 8×8"
   ]
  },
  {
   "cell_type": "code",
   "execution_count": 10,
   "id": "7e7d8675-5eb5-4817-9d3f-2f521f3e0a83",
   "metadata": {},
   "outputs": [
    {
     "name": "stdout",
     "output_type": "stream",
     "text": [
      "X O X O X O X O \n",
      "O X O X O X O X \n",
      "X O X O X O X O \n",
      "O X O X O X O X \n",
      "X O X O X O X O \n",
      "O X O X O X O X \n",
      "X O X O X O X O \n",
      "O X O X O X O X \n"
     ]
    }
   ],
   "source": [
    "for i in range(8):\n",
    "    for j in range(8):\n",
    "        print(('O', 'X')[(i+j)%2==0], end=' ')\n",
    "    print()"
   ]
  },
  {
   "cell_type": "markdown",
   "id": "d28fda38-eb1a-449d-80eb-04225b15ce59",
   "metadata": {},
   "source": [
    "## 34. Number Pyramid: Write a Python program using nested loops to print a number pyramid like the following: \n",
    "1\n",
    "22\n",
    "333\n",
    "4444\n",
    "55555"
   ]
  },
  {
   "cell_type": "code",
   "execution_count": 11,
   "id": "a6b0c05a-d341-4343-849a-5ba81f69c1e0",
   "metadata": {},
   "outputs": [
    {
     "name": "stdout",
     "output_type": "stream",
     "text": [
      "1\n",
      "22\n",
      "333\n",
      "4444\n",
      "55555\n"
     ]
    }
   ],
   "source": [
    "for i in range(1, 6):\n",
    "    for j in range(i):\n",
    "        print(i, end='')\n",
    "    print()"
   ]
  },
  {
   "cell_type": "markdown",
   "id": "d0dc1b8b-d60b-41fa-b197-0592a9c7d40e",
   "metadata": {
    "jp-MarkdownHeadingCollapsed": true
   },
   "source": [
    "# List Problems"
   ]
  },
  {
   "cell_type": "markdown",
   "id": "95e400d2-3c92-476c-9b59-377a9d1f0193",
   "metadata": {},
   "source": [
    "## 34. List Sum: Write a Python program to find the sum of all elements in a given list of integers."
   ]
  },
  {
   "cell_type": "code",
   "execution_count": 12,
   "id": "5fee3e57-28f9-4e0d-ba8b-eb27517c1da4",
   "metadata": {},
   "outputs": [
    {
     "data": {
      "text/plain": [
       "55"
      ]
     },
     "execution_count": 12,
     "metadata": {},
     "output_type": "execute_result"
    }
   ],
   "source": [
    "lst =[1, 2, 3, 4, 5, 6, 7, 8, 9, 10]\n",
    "sum_lst = sum(lst)\n",
    "sum_lst"
   ]
  },
  {
   "cell_type": "markdown",
   "id": "810643f1-5fbf-44d7-90c1-5833135fe428",
   "metadata": {},
   "source": [
    "## 35. List Average: Write a Python program to calculate the average of all elements in a given list of integers."
   ]
  },
  {
   "cell_type": "code",
   "execution_count": 14,
   "id": "7145f173-20ac-4f89-ac61-87144aa19b38",
   "metadata": {},
   "outputs": [
    {
     "data": {
      "text/plain": [
       "5.5"
      ]
     },
     "execution_count": 14,
     "metadata": {},
     "output_type": "execute_result"
    }
   ],
   "source": [
    "lst =[1, 2, 3, 4, 5, 6, 7, 8, 9, 10]\n",
    "avg = sum(lst)/len(lst)\n",
    "avg"
   ]
  },
  {
   "cell_type": "markdown",
   "id": "82f0f895-7992-4abd-a73c-e88d733d10cc",
   "metadata": {},
   "source": [
    "## 36. List Max and Min: Write a Python program to find the maximum and minimum values in a given list of integers."
   ]
  },
  {
   "cell_type": "code",
   "execution_count": 17,
   "id": "7bb7e651-277a-4aee-9a42-dcbcd4862f76",
   "metadata": {},
   "outputs": [
    {
     "name": "stdout",
     "output_type": "stream",
     "text": [
      "max: 10\n",
      "min:1\n"
     ]
    }
   ],
   "source": [
    "lst =[1, 2, 3, 4, 5, 6, 7, 8, 9, 10]\n",
    "mx = max(lst)\n",
    "mn = min(lst)\n",
    "print(f'max: {mx}\\nmin:{mn}')"
   ]
  },
  {
   "cell_type": "markdown",
   "id": "7989bc59-bfd6-4e3b-96a6-017ce52a6228",
   "metadata": {},
   "source": [
    "## 37. List Sorting: Write a Python program to sort a list of integers in ascending order."
   ]
  },
  {
   "cell_type": "code",
   "execution_count": 19,
   "id": "f8f5c66e-43c2-427f-8639-6f8082877fb9",
   "metadata": {},
   "outputs": [
    {
     "data": {
      "text/plain": [
       "[3, 13, 27, 31, 36, 40, 57, 97, 97, 100]"
      ]
     },
     "execution_count": 19,
     "metadata": {},
     "output_type": "execute_result"
    }
   ],
   "source": [
    "lst = [31, 57, 97, 40, 97, 100, 3, 36, 27, 13]\n",
    "lst.sort()\n",
    "lst"
   ]
  },
  {
   "cell_type": "markdown",
   "id": "235c42d4-7d8b-4cbb-b49f-a2d90fd1b7ab",
   "metadata": {},
   "source": [
    "## 38. List Filtering: Given a list of integers, write a Python program to create a new list that contains only the even numbers from the original list."
   ]
  },
  {
   "cell_type": "code",
   "execution_count": 28,
   "id": "b6f768fc-6ac0-4c29-8992-2a3f4b3483f7",
   "metadata": {},
   "outputs": [
    {
     "data": {
      "text/plain": [
       "[40, 84, 36]"
      ]
     },
     "execution_count": 28,
     "metadata": {},
     "output_type": "execute_result"
    }
   ],
   "source": [
    "lst = [31, 57, 97, 40, 97, 84, 3, 36, 27, 13]\n",
    "even_lst = []\n",
    "for n in lst:\n",
    "    if n%2==0:\n",
    "        even_lst.append(n)\n",
    "even_lst"
   ]
  },
  {
   "cell_type": "markdown",
   "id": "a403ecf2-96d1-41bc-aa90-927cff689bcc",
   "metadata": {},
   "source": [
    "## 39. List Reversal: Write a Python program to reverse a given list without using any built-in functions."
   ]
  },
  {
   "cell_type": "code",
   "execution_count": 21,
   "id": "ecf9f665-e7b4-4522-9a01-14a1b1678c69",
   "metadata": {},
   "outputs": [
    {
     "data": {
      "text/plain": [
       "[13, 27, 36, 3, 84, 97, 40, 97, 57, 31]"
      ]
     },
     "execution_count": 21,
     "metadata": {},
     "output_type": "execute_result"
    }
   ],
   "source": [
    "lst = [31, 57, 97, 40, 97, 84, 3, 36, 27, 13]\n",
    "lst = lst[::-1]\n",
    "lst"
   ]
  },
  {
   "cell_type": "markdown",
   "id": "ab578053-def4-4b4e-8a62-6ef316eef7d6",
   "metadata": {},
   "source": [
    "## 40. List Manipulation: Given two lists of integers, write a Python program to create a new list that contains elements common to both lists."
   ]
  },
  {
   "cell_type": "code",
   "execution_count": 29,
   "id": "261aae04-d36b-49f3-90f0-9b66f7171b37",
   "metadata": {},
   "outputs": [
    {
     "data": {
      "text/plain": [
       "[31, 97, 36, 13]"
      ]
     },
     "execution_count": 29,
     "metadata": {},
     "output_type": "execute_result"
    }
   ],
   "source": [
    "lst1 = [31, 57, 97, 40, 93, 84, 3, 36, 27, 13]\n",
    "lst2 = [13, 55, 97, 31, 18, 36, 9, 76, 53, 7]\n",
    "common_elements = []\n",
    "for n in lst1:\n",
    "    if n in lst2:\n",
    "        common_elements.append(n)\n",
    "common_elements"
   ]
  },
  {
   "cell_type": "markdown",
   "id": "8c3a1ad8-cd32-4588-8912-98f4fd3ebddd",
   "metadata": {},
   "source": [
    "## 41. List Element Count: Write a Python program to count the occurrences of a specific element in a given list."
   ]
  },
  {
   "cell_type": "code",
   "execution_count": 24,
   "id": "4cb49c05-b331-472e-a153-31d408f89a7e",
   "metadata": {},
   "outputs": [
    {
     "data": {
      "text/plain": [
       "3"
      ]
     },
     "execution_count": 24,
     "metadata": {},
     "output_type": "execute_result"
    }
   ],
   "source": [
    "lst = [31, 57, 97, 40, 97, 84, 3, 97, 27, 13]\n",
    "cnt = lst.count(97)\n",
    "cnt"
   ]
  },
  {
   "cell_type": "markdown",
   "id": "26e60215-3d0e-4c92-a898-2e8517d20773",
   "metadata": {},
   "source": [
    "## 42. List Duplicates Removal: Write a Python program to remove duplicates from a given list while preserving the order of the elements."
   ]
  },
  {
   "cell_type": "code",
   "execution_count": 26,
   "id": "df5e34cb-ebf5-42e1-b2b9-8c03c1bd11fc",
   "metadata": {},
   "outputs": [
    {
     "data": {
      "text/plain": [
       "[31, 57, 97, 40, 84, 3, 27, 13]"
      ]
     },
     "execution_count": 26,
     "metadata": {},
     "output_type": "execute_result"
    }
   ],
   "source": [
    "lst = [31, 57, 97, 40, 97, 84, 3, 97, 27, 13]\n",
    "output = []\n",
    "for n in lst:\n",
    "    if n not in output:\n",
    "        output.append(n)\n",
    "\n",
    "output"
   ]
  },
  {
   "cell_type": "markdown",
   "id": "0179b91e-36f9-4128-8b6f-5e5793299602",
   "metadata": {},
   "source": [
    "## 43. List Comprehension: Given a list of integers, write a Python program to create a new list that contains the squares of the elements using list comprehension."
   ]
  },
  {
   "cell_type": "code",
   "execution_count": 27,
   "id": "18ef6701-881a-4d30-a0ee-5c18e395edb6",
   "metadata": {},
   "outputs": [
    {
     "data": {
      "text/plain": [
       "[961, 3249, 9409, 1600, 9409, 7056, 9, 9409, 729, 169]"
      ]
     },
     "execution_count": 27,
     "metadata": {},
     "output_type": "execute_result"
    }
   ],
   "source": [
    "lst = [31, 57, 97, 40, 97, 84, 3, 97, 27, 13]\n",
    "squares = [n**2 for n in lst]\n",
    "squares"
   ]
  },
  {
   "cell_type": "markdown",
   "id": "12294d85-db22-4c1a-87a9-b417b2039fe1",
   "metadata": {
    "jp-MarkdownHeadingCollapsed": true
   },
   "source": [
    "# Nested List Problems"
   ]
  },
  {
   "cell_type": "markdown",
   "id": "9a0a480c-7ea1-4783-be61-3cd552c22261",
   "metadata": {},
   "source": [
    "## 44. Matrix Addition: Write a Python program to add two matrices represented as nested lists."
   ]
  },
  {
   "cell_type": "code",
   "execution_count": 1,
   "id": "0f437e8a-c148-4e27-ad69-289c59334ad8",
   "metadata": {},
   "outputs": [
    {
     "data": {
      "text/plain": [
       "[[10, 10, 10], [10, 10, 10], [10, 10, 10]]"
      ]
     },
     "execution_count": 1,
     "metadata": {},
     "output_type": "execute_result"
    }
   ],
   "source": [
    "a = [\n",
    "    [1, 2, 3],\n",
    "    [4, 5, 6],\n",
    "    [7, 8, 9]\n",
    "]\n",
    "\n",
    "b = [\n",
    "    [9, 8, 7],\n",
    "    [6, 5, 4],\n",
    "    [3, 2, 1]\n",
    "]\n",
    "\n",
    "addition_output = [[0] * len(a[0]) for _ in range(len(a))]\n",
    "\n",
    "for i in range(len(a)):\n",
    "    for j in range(len(a[0])):\n",
    "        addition_output[i][j] = a[i][j] + b[i][j]\n",
    "\n",
    "# output\n",
    "addition_output"
   ]
  },
  {
   "cell_type": "markdown",
   "id": "aa399718-8eaf-4455-815e-74dcc43afc7c",
   "metadata": {},
   "source": [
    "## 45. Flatten Nested List: Write a Python program to flatten a given nested list and convert it into a single-dimensional list."
   ]
  },
  {
   "cell_type": "code",
   "execution_count": 8,
   "id": "a8311660-bee8-48c2-855e-7c25299ccfab",
   "metadata": {},
   "outputs": [
    {
     "data": {
      "text/plain": [
       "[1, 2, 3, 4, 5, 6]"
      ]
     },
     "execution_count": 8,
     "metadata": {},
     "output_type": "execute_result"
    }
   ],
   "source": [
    "lst = [[1, 2, 3], [4, 5, 6]]\n",
    "f_lst = []\n",
    "for i in lst:\n",
    "    f_lst.extend(i)\n",
    "f_lst"
   ]
  },
  {
   "cell_type": "markdown",
   "id": "d90efab6-e4bc-468c-a546-831cd299f22f",
   "metadata": {},
   "source": [
    "## 46. List Element Frequency: Given a nested list containing lists of integers, write a Python program to count the frequency of each element in the entire nested list."
   ]
  },
  {
   "cell_type": "code",
   "execution_count": 2,
   "id": "5fcbb84f-a189-457d-bbfe-510497a24df5",
   "metadata": {},
   "outputs": [
    {
     "data": {
      "text/plain": [
       "1    1\n",
       "2    1\n",
       "3    1\n",
       "4    1\n",
       "5    1\n",
       "6    1\n",
       "Name: count, dtype: int64"
      ]
     },
     "execution_count": 2,
     "metadata": {},
     "output_type": "execute_result"
    }
   ],
   "source": [
    "import pandas as pd\n",
    "lst = [[1, 2, 3], [4, 5, 6]]\n",
    "pd.Series(n for l in lst for n in l).value_counts()"
   ]
  },
  {
   "cell_type": "code",
   "execution_count": 5,
   "id": "924de51a-8ba9-4986-b027-6e63d463ccc8",
   "metadata": {},
   "outputs": [
    {
     "name": "stdout",
     "output_type": "stream",
     "text": [
      "1 : 1\n",
      "2 : 1\n",
      "3 : 1\n",
      "4 : 1\n",
      "5 : 1\n",
      "6 : 1\n"
     ]
    }
   ],
   "source": [
    "lst = [[1, 2, 3], [4, 5, 6]]\n",
    "u_ele = []\n",
    "ele_cnt = []\n",
    "\n",
    "for i in lst:\n",
    "    for j in i:\n",
    "        if j in u_ele:\n",
    "            index = u_ele.index(j)\n",
    "            ele_cnt[index] += 1\n",
    "        else:\n",
    "            u_ele.append(j)\n",
    "            ele_cnt.append(1)\n",
    "\n",
    "for i in range(len(u_ele)):\n",
    "    print(f'{u_ele[i]} : {ele_cnt[i]}')"
   ]
  },
  {
   "cell_type": "markdown",
   "id": "a721d1bf-295c-4cc8-8695-6524f7e4d792",
   "metadata": {},
   "source": [
    "## 47. Transpose Matrix: Write a Python program to transpose a given matrix represented as a nested list."
   ]
  },
  {
   "cell_type": "code",
   "execution_count": 6,
   "id": "b36f86ea-7492-49a9-ad49-5066adc9c39a",
   "metadata": {},
   "outputs": [
    {
     "data": {
      "text/plain": [
       "[[1, 4, 7], [2, 5, 8], [3, 6, 9]]"
      ]
     },
     "execution_count": 6,
     "metadata": {},
     "output_type": "execute_result"
    }
   ],
   "source": [
    "lst = [[1, 2, 3], [4, 5, 6], [7, 8, 9]]\n",
    "t_matrix = [list(row) for row in zip(*lst)]\n",
    "t_matrix"
   ]
  },
  {
   "cell_type": "markdown",
   "id": "3cb9205e-7364-4877-84b3-a1935fca6fbb",
   "metadata": {},
   "source": [
    "## 48. List of Lists Concatenation: Given a list of nested lists, write a Python program to concatenate all the sublists into a single flat list."
   ]
  },
  {
   "cell_type": "code",
   "execution_count": 10,
   "id": "f21d06e6-22e7-4eb6-9085-1059de019708",
   "metadata": {},
   "outputs": [
    {
     "data": {
      "text/plain": [
       "[1, 2, 3, 4, 5, 6, 7, 8, 9]"
      ]
     },
     "execution_count": 10,
     "metadata": {},
     "output_type": "execute_result"
    }
   ],
   "source": [
    "lst = [[1, 2, 3], [4, 5, 6], [7, 8, 9]]\n",
    "flat_lst = sum(lst, [])\n",
    "\n",
    "flat_lst"
   ]
  },
  {
   "cell_type": "markdown",
   "id": "9e5f4d97-fa0c-49ff-a3a8-053bad1ada84",
   "metadata": {},
   "source": [
    "## 49. Nested List Element Access: Given a nested list, write a Python program to access and print specific elements from it."
   ]
  },
  {
   "cell_type": "code",
   "execution_count": 14,
   "id": "aa927857-d75c-4b95-bab2-4f359a540d18",
   "metadata": {},
   "outputs": [
    {
     "name": "stdout",
     "output_type": "stream",
     "text": [
      "Index (1, 2): Element(6)\n"
     ]
    }
   ],
   "source": [
    "lst = [[1, 2, 3], [4, 5, 6], [7, 8, 9]]\n",
    "\n",
    "access_row = 1\n",
    "access_col = 2\n",
    "\n",
    "if 0 <= access_row < len(lst) and 0 <= access_col < len(lst[access_row]):\n",
    "    element = lst[access_row][access_col]\n",
    "    print(f'Index ({access_row}, {access_col}): Element({element})')\n",
    "else:\n",
    "    print('Invalid Index.')"
   ]
  },
  {
   "cell_type": "markdown",
   "id": "b968d76b-f34a-4de6-8f7f-8cf65b5072c4",
   "metadata": {},
   "source": [
    "## 50. Nested List Sorting: Given a nested list containing lists of integers, write a Python program to sort the sublists based on their lengths."
   ]
  },
  {
   "cell_type": "code",
   "execution_count": 17,
   "id": "72fd13d9-475d-4b0f-8ec9-32a95ad0a210",
   "metadata": {},
   "outputs": [
    {
     "data": {
      "text/plain": [
       "[[8], [7], [2, 5], [5, 4, 8, 2], [4, 3, 3, 5, 1]]"
      ]
     },
     "execution_count": 17,
     "metadata": {},
     "output_type": "execute_result"
    }
   ],
   "source": [
    "import numpy as np\n",
    "lst = [list(np.random.randint(1, 10, size=np.random.randint(1, 6))) for _ in range(5)]\n",
    "sorted_lst = sorted(lst, key=lambda x: len(x))\n",
    "\n",
    "sorted_lst"
   ]
  },
  {
   "cell_type": "markdown",
   "id": "d403ffcf-01b6-4e60-8f36-3a629994a92b",
   "metadata": {},
   "source": [
    "## 51. List of Tuples Conversion: Given a nested list containing tuples of (x, y) coordinates, write a Python program to convert it into a list of x-coordinates and a list of y-coordinates."
   ]
  },
  {
   "cell_type": "code",
   "execution_count": 19,
   "id": "b3e24327-c5fd-4461-a37a-f4185a3af0b2",
   "metadata": {},
   "outputs": [
    {
     "name": "stdout",
     "output_type": "stream",
     "text": [
      "x-coordinates: (2, 9, 1, 7, 9)\n",
      "y-coordinates: (4, 6, 1, 4, 6)\n"
     ]
    }
   ],
   "source": [
    "lst = [(x, y) for x, y in zip(np.random.randint(1, 10, 5), np.random.randint(1, 10, 5))]\n",
    "co_x, co_y = zip(*lst)\n",
    "print(f'x-coordinates: {co_x}\\ny-coordinates: {co_y}')"
   ]
  },
  {
   "cell_type": "markdown",
   "id": "18f4a0dc-1ec3-499d-8a43-12c8f7330c53",
   "metadata": {},
   "source": [
    "## 52. Count Even Numbers: Write a Python program to count the number of even numbers in a nested list."
   ]
  },
  {
   "cell_type": "code",
   "execution_count": 22,
   "id": "49329f9b-4b7b-41eb-a0c2-e9db4543547b",
   "metadata": {},
   "outputs": [
    {
     "data": {
      "text/plain": [
       "4    2\n",
       "8    1\n",
       "Name: count, dtype: int64"
      ]
     },
     "execution_count": 22,
     "metadata": {},
     "output_type": "execute_result"
    }
   ],
   "source": [
    "lst = [list(np.random.randint(1, 10, size=np.random.randint(1, 6))) for _ in range(5)]\n",
    "pd.Series(n for l in lst for n in l if n%2==0).value_counts()"
   ]
  },
  {
   "cell_type": "markdown",
   "id": "583429a9-409d-45ab-a1df-44174a5a38f4",
   "metadata": {},
   "source": [
    "## 53. Maximum Element in Nested List: Write a Python program to find the maximum element in a nested list of integers."
   ]
  },
  {
   "cell_type": "code",
   "execution_count": 24,
   "id": "6b2ede7e-99b8-4272-93fd-87af4a8c46ba",
   "metadata": {},
   "outputs": [
    {
     "data": {
      "text/plain": [
       "8"
      ]
     },
     "execution_count": 24,
     "metadata": {},
     "output_type": "execute_result"
    }
   ],
   "source": [
    "lst = [list(np.random.randint(1, 10, size=np.random.randint(1, 6))) for _ in range(5)]\n",
    "mx = max(max(lst))\n",
    "mx"
   ]
  },
  {
   "cell_type": "markdown",
   "id": "af614a02-455e-42eb-9259-f656c25d8a4d",
   "metadata": {},
   "source": [
    "## 54. Diagonal Sum of Matrix: Given a square matrix represented as a nested list, write a Python program to calculate the sum of the elements in the main diagonal."
   ]
  },
  {
   "cell_type": "code",
   "execution_count": 32,
   "id": "72084522-6fcc-45b0-895e-2fd4c7e97ceb",
   "metadata": {},
   "outputs": [
    {
     "data": {
      "text/plain": [
       "22"
      ]
     },
     "execution_count": 32,
     "metadata": {},
     "output_type": "execute_result"
    }
   ],
   "source": [
    "lst = [list(np.random.randint(1, 10, size=3)) for _ in range(3)]\n",
    "d_sum = np.trace(np.array(lst))\n",
    "d_sum"
   ]
  },
  {
   "cell_type": "markdown",
   "id": "32a78f8c-9f53-4814-a240-d2f72157d527",
   "metadata": {},
   "source": [
    "## 55. Nested List Element Search: Write a Python program to search for a specific element in a nested list and return its position (row and column indices)."
   ]
  },
  {
   "cell_type": "code",
   "execution_count": 63,
   "id": "d435787c-7c3f-457d-95e3-e025a67d4d19",
   "metadata": {},
   "outputs": [
    {
     "name": "stdout",
     "output_type": "stream",
     "text": [
      "14 found at [0, 1]\n"
     ]
    }
   ],
   "source": [
    "lst = [list(np.random.randint(10, 30, 3)) for _ in range(3)]\n",
    "target = 14\n",
    "pos = []\n",
    "flag = 0\n",
    "\n",
    "for i, j in enumerate(lst):\n",
    "    for k, l in enumerate(j):\n",
    "        if l == target:\n",
    "            flag = 1\n",
    "            pos = [i, k]\n",
    "            break\n",
    "    if flag ==1:\n",
    "        break\n",
    "if pos:\n",
    "    print(f'{target} found at {pos}')\n",
    "else:\n",
    "    print('not found')"
   ]
  },
  {
   "cell_type": "markdown",
   "id": "aa2737f1-02f1-421a-abf5-834cf73825aa",
   "metadata": {
    "jp-MarkdownHeadingCollapsed": true
   },
   "source": [
    "# Tuple Problems"
   ]
  },
  {
   "cell_type": "markdown",
   "id": "0201c420-58d2-4a51-9d00-06cb8c937a0d",
   "metadata": {},
   "source": [
    "## 56. Tuple Concatenation: Write a Python program to concatenate two tuples and create a new tuple."
   ]
  },
  {
   "cell_type": "code",
   "execution_count": 49,
   "id": "b58512b8-9c40-4341-b64b-87846caae52b",
   "metadata": {},
   "outputs": [
    {
     "data": {
      "text/plain": [
       "(1, 2, 3, 3, 4, 5)"
      ]
     },
     "execution_count": 49,
     "metadata": {},
     "output_type": "execute_result"
    }
   ],
   "source": [
    "t1 = (1, 2, 3)\n",
    "t2 = (3, 4, 5)\n",
    "concat = t1 + t2\n",
    "concat"
   ]
  },
  {
   "cell_type": "markdown",
   "id": "48ec1632-511d-4361-a917-01557a0c3b2e",
   "metadata": {},
   "source": [
    "## 57. Tuple Unpacking: Given a tuple with three elements (x, y, z), write a Python program to unpack the tuple and assign the values to three variables."
   ]
  },
  {
   "cell_type": "code",
   "execution_count": 50,
   "id": "5ee1f601-5ee4-42b8-97d2-93066c1d9b06",
   "metadata": {},
   "outputs": [
    {
     "name": "stdout",
     "output_type": "stream",
     "text": [
      "1 2 3\n"
     ]
    }
   ],
   "source": [
    "t = (1, 2, 3)\n",
    "x, y, z = t\n",
    "print(x, y, z)"
   ]
  },
  {
   "cell_type": "markdown",
   "id": "6d677468-054d-4911-8262-2acdbee18b15",
   "metadata": {},
   "source": [
    "## 58. Tuple Sorting: Write a Python program to sort a tuple of integers in ascending order."
   ]
  },
  {
   "cell_type": "code",
   "execution_count": 51,
   "id": "061d63ba-f442-4268-9629-e57aa2d28990",
   "metadata": {},
   "outputs": [
    {
     "data": {
      "text/plain": [
       "(1, 2, 3, 5, 8)"
      ]
     },
     "execution_count": 51,
     "metadata": {},
     "output_type": "execute_result"
    }
   ],
   "source": [
    "t = (5, 3, 8, 1, 2)\n",
    "t = tuple(sorted(t))\n",
    "t"
   ]
  },
  {
   "cell_type": "markdown",
   "id": "6aace7b9-401b-4d2d-a641-06b37b848bbd",
   "metadata": {},
   "source": [
    "## 59. Tuple Frequency Count: Given a tuple containing various elements, write a Python program to count the frequency of a specific element in the tuple."
   ]
  },
  {
   "cell_type": "code",
   "execution_count": 52,
   "id": "29d4c7ef-da40-47f9-afa9-d3d53dd4e801",
   "metadata": {},
   "outputs": [
    {
     "data": {
      "text/plain": [
       "2"
      ]
     },
     "execution_count": 52,
     "metadata": {},
     "output_type": "execute_result"
    }
   ],
   "source": [
    "t = (5, 3, 8, 1, 2, 5, 4)\n",
    "cnt = t.count(5)\n",
    "cnt"
   ]
  },
  {
   "cell_type": "markdown",
   "id": "295d5785-2fd3-4ab3-8415-eec60cadf6af",
   "metadata": {},
   "source": [
    "## 60. Tuple to List: Write a Python program to convert a tuple into a list."
   ]
  },
  {
   "cell_type": "code",
   "execution_count": 55,
   "id": "ebb5153a-4ebc-4d35-ae37-822a6e610605",
   "metadata": {},
   "outputs": [
    {
     "data": {
      "text/plain": [
       "[5, 3, 8, 1, 2, 5, 4]"
      ]
     },
     "execution_count": 55,
     "metadata": {},
     "output_type": "execute_result"
    }
   ],
   "source": [
    "t = (5, 3, 8, 1, 2, 5, 4)\n",
    "l = list(t)\n",
    "l"
   ]
  },
  {
   "cell_type": "markdown",
   "id": "47d0c9c3-a495-48eb-80b1-f2fb483fa351",
   "metadata": {},
   "source": [
    "## 61. Tuple Reversal: Write a Python program to reverse a tuple without using any built-in functions."
   ]
  },
  {
   "cell_type": "code",
   "execution_count": 57,
   "id": "849189b0-0455-42a2-b275-5c6bcf3d32bd",
   "metadata": {},
   "outputs": [
    {
     "data": {
      "text/plain": [
       "(9, 8, 7, 6, 5, 4, 3, 2, 1)"
      ]
     },
     "execution_count": 57,
     "metadata": {},
     "output_type": "execute_result"
    }
   ],
   "source": [
    "t = (1, 2, 3, 4,5 ,6, 7, 8, 9)\n",
    "t[::-1]"
   ]
  },
  {
   "cell_type": "markdown",
   "id": "309fae78-0bfd-4bcf-a727-04fe78ff74ee",
   "metadata": {},
   "source": [
    "## 62. Tuple Slicing: Given a tuple, write a Python program to extract a slice of elements from it."
   ]
  },
  {
   "cell_type": "code",
   "execution_count": 58,
   "id": "13c79eb2-a182-4354-842e-a195333ceafc",
   "metadata": {},
   "outputs": [
    {
     "data": {
      "text/plain": [
       "(4, 5, 6, 7)"
      ]
     },
     "execution_count": 58,
     "metadata": {},
     "output_type": "execute_result"
    }
   ],
   "source": [
    "t = (1, 2, 3, 4,5 ,6, 7, 8, 9)\n",
    "slice = t[3:7]\n",
    "slice"
   ]
  },
  {
   "cell_type": "markdown",
   "id": "7dbb3537-4c0a-44c4-81aa-37ce9b129e0b",
   "metadata": {},
   "source": [
    "## 63. Tuple Operations: Given two tuples of integers, write a Python program to perform element-wise addition, subtraction, and multiplication and create new tuples for each operation."
   ]
  },
  {
   "cell_type": "code",
   "execution_count": 59,
   "id": "7a0d2b78-ee84-4775-be48-9be21b75c765",
   "metadata": {},
   "outputs": [
    {
     "name": "stdout",
     "output_type": "stream",
     "text": [
      "add: (6, 5, 11, 5, 7, 11, 11)\n",
      "sub: (4, 1, 5, -3, -3, -1, -3)\n",
      "mul: (5, 6, 24, 4, 10, 30, 28)\n"
     ]
    }
   ],
   "source": [
    "t1 = (5, 3, 8, 1, 2, 5, 4)\n",
    "t2 = (1, 2, 3, 4, 5 ,6, 7)\n",
    "\n",
    "add = tuple(i+j for i, j in zip(t1, t2))\n",
    "sub = tuple(i-j for i, j in zip(t1, t2))\n",
    "mul = tuple(i*j for i, j in zip(t1, t2))\n",
    "\n",
    "print(f'add: {add}\\nsub: {sub}\\nmul: {mul}')"
   ]
  },
  {
   "cell_type": "markdown",
   "id": "7299e086-bdf4-4c90-af57-4ecac4fc3773",
   "metadata": {},
   "source": [
    "## 64. Tuple Membership Test: Write a Python program that takes an element as input and checks if it exists in a given tuple."
   ]
  },
  {
   "cell_type": "code",
   "execution_count": 60,
   "id": "51541778-ccd5-4c0d-abaf-7d5788c6af88",
   "metadata": {},
   "outputs": [
    {
     "name": "stdin",
     "output_type": "stream",
     "text": [
      " 3\n"
     ]
    },
    {
     "name": "stdout",
     "output_type": "stream",
     "text": [
      "found\n"
     ]
    }
   ],
   "source": [
    "t1 = (5, 3, 8, 1, 2, 5, 4)\n",
    "n = int(input())\n",
    "\n",
    "if n in t1:\n",
    "    print('found')\n",
    "else:\n",
    "    print('not found')"
   ]
  },
  {
   "cell_type": "markdown",
   "id": "c3c3ddf3-7db0-456a-aeac-36e43862c242",
   "metadata": {},
   "source": [
    "## 65. Tuple Packing: Write a Python program to pack three variables into a single tuple and print the tuple."
   ]
  },
  {
   "cell_type": "code",
   "execution_count": 61,
   "id": "4ed6e4e7-3717-420d-9110-f29ea308808c",
   "metadata": {},
   "outputs": [
    {
     "name": "stdout",
     "output_type": "stream",
     "text": [
      "(1, 'ok', 7.4)\n"
     ]
    }
   ],
   "source": [
    "a, b, c = 1, 'ok', 7.4\n",
    "tpl = (a, b, c)\n",
    "print(tpl)"
   ]
  },
  {
   "cell_type": "markdown",
   "id": "2ff0a420-5061-41d9-93e2-6045658b7846",
   "metadata": {
    "jp-MarkdownHeadingCollapsed": true
   },
   "source": [
    "# Set Problems"
   ]
  },
  {
   "cell_type": "markdown",
   "id": "58681d89-e98d-4724-b841-8f234a67198e",
   "metadata": {},
   "source": [
    "## 66. Duplicate Removal: Write a Python program that takes a list of elements as input and creates a new set containing only the unique elements from the list."
   ]
  },
  {
   "cell_type": "code",
   "execution_count": 71,
   "id": "41e37e45-4983-44c4-bedb-97c7513d9e08",
   "metadata": {},
   "outputs": [
    {
     "name": "stdin",
     "output_type": "stream",
     "text": [
      " 2 3 4 2 1 1 5 66 5 34 43 67 98 9\n"
     ]
    },
    {
     "data": {
      "text/plain": [
       "{1, 2, 3, 4, 5, 9, 34, 43, 66, 67, 98}"
      ]
     },
     "execution_count": 71,
     "metadata": {},
     "output_type": "execute_result"
    }
   ],
   "source": [
    "lst = list(map(int, input().split()))\n",
    "set_lst = set(lst)\n",
    "set_lst"
   ]
  },
  {
   "cell_type": "markdown",
   "id": "868a7679-8690-4421-818f-c32d0f5fdb67",
   "metadata": {},
   "source": [
    "## 67. Set Intersection: Given two sets A and B, write a Python program to find their intersection and print the common elements."
   ]
  },
  {
   "cell_type": "code",
   "execution_count": 77,
   "id": "52a92320-2a23-4302-abe7-e43ac92c2a08",
   "metadata": {},
   "outputs": [
    {
     "data": {
      "text/plain": [
       "{5, 8, 9}"
      ]
     },
     "execution_count": 77,
     "metadata": {},
     "output_type": "execute_result"
    }
   ],
   "source": [
    "A = set(np.random.randint(1, 10, 7))\n",
    "B = set(np.random.randint(1, 10, 7))\n",
    "ins = A.intersection(B)\n",
    "ins"
   ]
  },
  {
   "cell_type": "markdown",
   "id": "16e4698f-de91-4e6b-b51b-a4fca3eafcfd",
   "metadata": {},
   "source": [
    "## 68. Set Union: Given two sets A and B, write a Python program to find their union and print all the distinct elements from both sets."
   ]
  },
  {
   "cell_type": "code",
   "execution_count": 85,
   "id": "8d613a5d-5402-4c5f-8faf-41368f48402e",
   "metadata": {},
   "outputs": [
    {
     "name": "stdout",
     "output_type": "stream",
     "text": [
      "A={2, 4, 5, 8, 9}\n",
      "B={1, 2, 3, 4, 5, 7}\n",
      "union: {1, 2, 3, 4, 5, 7, 8, 9}\n",
      "distinct elements A: {8, 9}\n",
      "distinct elements B: {1, 3, 7}\n"
     ]
    }
   ],
   "source": [
    "A = set(np.random.randint(1, 10, 7))\n",
    "B = set(np.random.randint(1, 10, 7))\n",
    "print(f'A={A}')\n",
    "print(f'B={B}')\n",
    "\n",
    "uns = A.union(B)\n",
    "print(f'union: {uns}')\n",
    "print(f'distinct elements A: {A.symmetric_difference(A&B)}')\n",
    "print(f'distinct elements B: {B.symmetric_difference(A&B)}')"
   ]
  },
  {
   "cell_type": "markdown",
   "id": "3aeafc7c-84f6-4446-a206-ace50240eb38",
   "metadata": {},
   "source": [
    "## 69. Set Difference: Given two sets A and B, write a Python program to find the difference between set A and set B (i.e., elements present in A but not in B) and print the result."
   ]
  },
  {
   "cell_type": "code",
   "execution_count": 80,
   "id": "64ed395b-0b8a-4ba1-b113-27560bb4735d",
   "metadata": {},
   "outputs": [
    {
     "name": "stdout",
     "output_type": "stream",
     "text": [
      "A={1, 2, 4, 5, 7, 9}\n",
      "B={1, 2, 4, 5, 8, 9}\n",
      "{7}\n"
     ]
    }
   ],
   "source": [
    "A = set(np.random.randint(1, 10, 7))\n",
    "B = set(np.random.randint(1, 10, 7))\n",
    "diff = A.difference(B)\n",
    "print(f'A={A}')\n",
    "print(f'B={B}')\n",
    "print(diff)"
   ]
  },
  {
   "cell_type": "markdown",
   "id": "1befe2a4-ac7f-451e-bf33-431d59248c75",
   "metadata": {},
   "source": [
    "## 70. Set Symmetric Difference: Given two sets A and B, write a Python program to find the symmetric difference between the two sets (i.e., elements that are present in either set A or set B, but not in both) and print the result."
   ]
  },
  {
   "cell_type": "code",
   "execution_count": 84,
   "id": "9ee9f3b6-cd88-4e61-92e0-158153af6a65",
   "metadata": {},
   "outputs": [
    {
     "name": "stdout",
     "output_type": "stream",
     "text": [
      "A={1, 2, 3, 6, 7, 8}\n",
      "B={1, 2, 3, 7, 9}\n",
      "Symmentric diff = {6, 8, 9}\n"
     ]
    }
   ],
   "source": [
    "A = set(np.random.randint(1, 10, 7))\n",
    "B = set(np.random.randint(1, 10, 7))\n",
    "print(f'A={A}')\n",
    "print(f'B={B}')\n",
    "print(f'Symmentric diff = {A.symmetric_difference(B)}')"
   ]
  },
  {
   "cell_type": "markdown",
   "id": "a120af7e-e44a-47ab-9e63-4fc3bc61c267",
   "metadata": {},
   "source": [
    "## 71. Set Operations: Given three sets A, B, and C, write a Python program to find and print the intersection of A and B, the union of B and C, and the difference between C and A."
   ]
  },
  {
   "cell_type": "code",
   "execution_count": 87,
   "id": "b683fef7-2c8f-4529-8125-85941eb494bb",
   "metadata": {},
   "outputs": [
    {
     "name": "stdout",
     "output_type": "stream",
     "text": [
      "intersection A B: {8, 4, 5}\n",
      "union B C: {2, 3, 4, 5, 7, 8, 9}\n",
      "difference C A: {3, 7}\n"
     ]
    }
   ],
   "source": [
    "A = set(np.random.randint(1, 10, 7))\n",
    "B = set(np.random.randint(1, 10, 7))\n",
    "C = set(np.random.randint(1, 10, 7))\n",
    "\n",
    "print(f'intersection A B: {A.intersection(B)}')\n",
    "print(f'union B C: {B.union(C)}')\n",
    "print(f'difference C A: {C.difference(A)}')"
   ]
  },
  {
   "cell_type": "markdown",
   "id": "1d119697-acca-4108-85de-28906064136c",
   "metadata": {},
   "source": [
    "## 72. Set Subset Check: Given two sets A and B, write a Python program to check if set A is a subset of set B and print the result."
   ]
  },
  {
   "cell_type": "code",
   "execution_count": 89,
   "id": "81a34de8-32b8-4708-83b8-6373c032ccf3",
   "metadata": {},
   "outputs": [
    {
     "name": "stdout",
     "output_type": "stream",
     "text": [
      "A subset of B: True\n"
     ]
    }
   ],
   "source": [
    "A = {1, 3, 4}\n",
    "B = set(np.random.randint(1, 10, 7))\n",
    "print(f'A subset of B: {A.issubset(B)}')"
   ]
  },
  {
   "cell_type": "markdown",
   "id": "e7a4042f-850a-4371-8cdf-b7a6160d9d1e",
   "metadata": {},
   "source": [
    "## 73. Set Superset Check: Given two sets A and B, write a Python program to check if set A is a superset of set B and print the result."
   ]
  },
  {
   "cell_type": "code",
   "execution_count": 91,
   "id": "5f898674-3f44-4f34-b665-ba6c12a284ff",
   "metadata": {},
   "outputs": [
    {
     "name": "stdout",
     "output_type": "stream",
     "text": [
      "A superset of B: False\n"
     ]
    }
   ],
   "source": [
    "B = {1, 3, 4}\n",
    "A = set(np.random.randint(1, 10, 7))\n",
    "print(f'A superset of B: {A.issuperset(B)}')"
   ]
  },
  {
   "cell_type": "markdown",
   "id": "72f94e89-8852-4c78-bf10-cef5b1f35442",
   "metadata": {},
   "source": [
    "## 74. Set Length Check: Write a Python program that takes a set as input and prints the number of elements in the set."
   ]
  },
  {
   "cell_type": "code",
   "execution_count": 93,
   "id": "8cb2737e-934a-4bf6-a05f-bf41072b3f3e",
   "metadata": {},
   "outputs": [
    {
     "name": "stdin",
     "output_type": "stream",
     "text": [
      " 1 2 3 4 5 6 7 8\n"
     ]
    },
    {
     "name": "stdout",
     "output_type": "stream",
     "text": [
      "8\n"
     ]
    }
   ],
   "source": [
    "A = set(map(int, input().split()))\n",
    "print(len(A))"
   ]
  },
  {
   "cell_type": "markdown",
   "id": "6bfc55e5-683a-4033-bbf6-cd18a667edb0",
   "metadata": {},
   "source": [
    "## 75. Set Membership Test: Write a Python program that takes an element as input and checks if it exists in a given set. Print “Found” if the element is present and “Not Found” otherwise."
   ]
  },
  {
   "cell_type": "code",
   "execution_count": 95,
   "id": "33e72327-c53b-4cb7-a86f-9ff918c2e97c",
   "metadata": {},
   "outputs": [
    {
     "name": "stdin",
     "output_type": "stream",
     "text": [
      " 2\n"
     ]
    },
    {
     "name": "stdout",
     "output_type": "stream",
     "text": [
      "Found\n"
     ]
    }
   ],
   "source": [
    "n = int(input())\n",
    "A = set(np.random.randint(1, 10, 7))\n",
    "if n in A:\n",
    "    print('Found')\n",
    "else:\n",
    "    print('Not Found')"
   ]
  },
  {
   "cell_type": "markdown",
   "id": "7dd93e38-bf8f-4cdb-ab3e-a02454bcc8e0",
   "metadata": {
    "jp-MarkdownHeadingCollapsed": true
   },
   "source": [
    "# Dictionary Problems"
   ]
  },
  {
   "cell_type": "markdown",
   "id": "817cc6e4-7428-48b1-beae-231d52988d3b",
   "metadata": {},
   "source": [
    "## 76. Dictionary Manipulation: Given a dictionary with student names as keys and their corresponding scores as values, write a Python program to add a new student to the dictionary and update the score of an existing student."
   ]
  },
  {
   "cell_type": "code",
   "execution_count": 97,
   "id": "9b61c974-2486-42db-b33a-5fed3bbe6300",
   "metadata": {},
   "outputs": [
    {
     "data": {
      "text/plain": [
       "{'jason': 90, 'kelly': 87, 'yang': 91, 'nanfei': 95, 'gao': 87}"
      ]
     },
     "execution_count": 97,
     "metadata": {},
     "output_type": "execute_result"
    }
   ],
   "source": [
    "student = {'jason': 90, 'kelly': 87, 'yang': 91, 'nanfei': 95}\n",
    "student['gao'] = 87\n",
    "student"
   ]
  },
  {
   "cell_type": "markdown",
   "id": "f1f7ec32-eed7-40a2-b580-d79a7b3639b5",
   "metadata": {},
   "source": [
    "## 77. Dictionary Keys and Values: Write a Python program that takes a dictionary as input and prints all the keys and values in separate lines."
   ]
  },
  {
   "cell_type": "code",
   "execution_count": 100,
   "id": "41b0abb0-fe8e-4c1c-be32-02bce3ab8830",
   "metadata": {},
   "outputs": [
    {
     "name": "stdin",
     "output_type": "stream",
     "text": [
      " a 1\n",
      " b 2\n",
      " c 3\n"
     ]
    },
    {
     "name": "stdout",
     "output_type": "stream",
     "text": [
      "keys: dict_keys(['a', 'b', 'c'])\n",
      "values: dict_values(['1', '2', '3'])\n"
     ]
    }
   ],
   "source": [
    "d = dict(input().split() for _ in range(3))\n",
    "print(f'keys: {d.keys()}')\n",
    "print(f'values: {d.values()}')"
   ]
  },
  {
   "cell_type": "markdown",
   "id": "bc0d0982-96c9-47ff-8d44-b3b5f6117008",
   "metadata": {},
   "source": [
    "## 78. Dictionary Length: Write a Python program to calculate and print the number of key-value pairs in a given dictionary."
   ]
  },
  {
   "cell_type": "code",
   "execution_count": 101,
   "id": "05f50a0f-990a-46ee-9f42-d76984eece9d",
   "metadata": {},
   "outputs": [
    {
     "data": {
      "text/plain": [
       "4"
      ]
     },
     "execution_count": 101,
     "metadata": {},
     "output_type": "execute_result"
    }
   ],
   "source": [
    "student = {'jason': 90, 'kelly': 87, 'yang': 91, 'nanfei': 95}\n",
    "len(student)"
   ]
  },
  {
   "cell_type": "markdown",
   "id": "e6a327fc-cf00-47d4-b2be-05aa8bb2fdeb",
   "metadata": {},
   "source": [
    "## 79. Dictionary Value Search: Given a dictionary of items and their prices, write a Python program to search for an item based on its price and print the item’s name."
   ]
  },
  {
   "cell_type": "code",
   "execution_count": 102,
   "id": "b2ea5b5b-946c-416c-928f-29bd8e334f58",
   "metadata": {},
   "outputs": [
    {
     "name": "stdout",
     "output_type": "stream",
     "text": [
      "Grapefruit\n"
     ]
    }
   ],
   "source": [
    "items = {\"Apple\": 2, \"Banana\": 1, \"Orange\": 3, \"Grapefruit\": 4}\n",
    "search_price = 4\n",
    "for name, price in items.items():\n",
    "    if price == search_price:\n",
    "        print(name)\n",
    "        break"
   ]
  },
  {
   "cell_type": "markdown",
   "id": "5f8fb41e-9213-4c55-b7e7-7a63c4508fcd",
   "metadata": {},
   "source": [
    "## 80. Dictionary Merging: Given two dictionaries, write a Python program to merge them into a single dictionary and print the result."
   ]
  },
  {
   "cell_type": "code",
   "execution_count": 103,
   "id": "a3279a82-1146-43ca-92e7-eb10b0796b34",
   "metadata": {},
   "outputs": [
    {
     "data": {
      "text/plain": [
       "{'a': 1, 'b': 2, 'c': 3, 'd': 4}"
      ]
     },
     "execution_count": 103,
     "metadata": {},
     "output_type": "execute_result"
    }
   ],
   "source": [
    "a = {'a': 1, 'b': 2}\n",
    "b = {'c': 3, 'd': 4}\n",
    "a.update(b)\n",
    "a"
   ]
  },
  {
   "cell_type": "code",
   "execution_count": 104,
   "id": "bac8c893-109a-4fd8-8a22-29ee2e0bb556",
   "metadata": {},
   "outputs": [
    {
     "data": {
      "text/plain": [
       "{'a': 1, 'b': 2, 'c': 3, 'd': 4}"
      ]
     },
     "execution_count": 104,
     "metadata": {},
     "output_type": "execute_result"
    }
   ],
   "source": [
    "a = {'a': 1, 'b': 2}\n",
    "b = {'c': 3, 'd': 4}\n",
    "\n",
    "merge = {**a, **b}\n",
    "merge"
   ]
  },
  {
   "cell_type": "markdown",
   "id": "02dae8be-8b8b-4940-9bbe-c01ca0dd049c",
   "metadata": {},
   "source": [
    "## 81. Dictionary Key Removal: Given a dictionary of items and their quantities, write a Python program to remove a specific item from the dictionary based on user input."
   ]
  },
  {
   "cell_type": "code",
   "execution_count": 105,
   "id": "c30b9ec8-1263-42e0-bdff-cf7bd0130bfe",
   "metadata": {},
   "outputs": [
    {
     "name": "stdin",
     "output_type": "stream",
     "text": [
      " Banana\n"
     ]
    },
    {
     "data": {
      "text/plain": [
       "{'Apple': 120, 'Orange': 103, 'Grapefruit': 400}"
      ]
     },
     "execution_count": 105,
     "metadata": {},
     "output_type": "execute_result"
    }
   ],
   "source": [
    "items = {\"Apple\": 120, \"Banana\": 100, \"Orange\": 103, \"Grapefruit\": 400}\n",
    "\n",
    "remove_item = input()\n",
    "del items[remove_item]\n",
    "\n",
    "items"
   ]
  },
  {
   "cell_type": "markdown",
   "id": "8a265f46-d4b8-405f-b9be-a5e5f29014b5",
   "metadata": {},
   "source": [
    "## 82. Dictionary Sorting: Given a dictionary with names as keys and corresponding ages as values, write a Python program to sort the dictionary based on age in ascending order."
   ]
  },
  {
   "cell_type": "code",
   "execution_count": 107,
   "id": "de20f807-2f2f-4ab2-bb8b-eb39dcfac681",
   "metadata": {},
   "outputs": [
    {
     "data": {
      "text/plain": [
       "{'nanfei': 27, 'jason': 30, 'yang': 33, 'kelly': 35}"
      ]
     },
     "execution_count": 107,
     "metadata": {},
     "output_type": "execute_result"
    }
   ],
   "source": [
    "info = {'jason': 30, 'kelly': 35, 'yang': 33, 'nanfei': 27}\n",
    "sorted_info = dict(sorted(info.items(), key=lambda item: item[1]))\n",
    "sorted_info"
   ]
  },
  {
   "cell_type": "markdown",
   "id": "9154ecb5-2861-47d5-804c-d458e84a004e",
   "metadata": {},
   "source": [
    "## 83. Dictionary Frequency Count: Write a Python program that takes a string as input and creates a dictionary containing each character as a key and its frequency as the value."
   ]
  },
  {
   "cell_type": "code",
   "execution_count": 113,
   "id": "439755f0-9d29-466b-ac2e-5f549429735a",
   "metadata": {},
   "outputs": [
    {
     "name": "stdin",
     "output_type": "stream",
     "text": [
      " python dictionary\n"
     ]
    },
    {
     "data": {
      "text/plain": [
       "{'p': 1,\n",
       " 'y': 2,\n",
       " 't': 2,\n",
       " 'h': 1,\n",
       " 'o': 2,\n",
       " 'n': 2,\n",
       " ' ': 1,\n",
       " 'd': 1,\n",
       " 'i': 2,\n",
       " 'c': 1,\n",
       " 'a': 1,\n",
       " 'r': 1}"
      ]
     },
     "execution_count": 113,
     "metadata": {},
     "output_type": "execute_result"
    }
   ],
   "source": [
    "st = input()\n",
    "d = {}\n",
    "for c in st:\n",
    "    d[c] = d.get(c, 0) + 1\n",
    "d"
   ]
  },
  {
   "cell_type": "markdown",
   "id": "d14c5564-6704-4540-84ae-7be6d54c20e7",
   "metadata": {},
   "source": [
    "## 84. Dictionary Comprehension: Given a list of integers, write a Python program to create a dictionary where the keys are the elements from the list, and the values are their squares."
   ]
  },
  {
   "cell_type": "code",
   "execution_count": 114,
   "id": "8b82ab73-7a1b-4255-992b-80fb5a3c65f7",
   "metadata": {},
   "outputs": [
    {
     "data": {
      "text/plain": [
       "{9: 81, 16: 256, 7: 49, 8: 64, 12: 144}"
      ]
     },
     "execution_count": 114,
     "metadata": {},
     "output_type": "execute_result"
    }
   ],
   "source": [
    "num_list = list(np.random.randint(1, 20, 6))\n",
    "dict = {num: num**2 for num in num_list}\n",
    "dict"
   ]
  },
  {
   "cell_type": "markdown",
   "id": "673c5c3e-cbe1-4b0e-bfa0-f043c7d9ec0c",
   "metadata": {},
   "source": [
    "## 85. Dictionary Key Check: Write a Python program that takes a key as input and checks if it exists in a given dictionary. Print “Key Found” if the key is present and “Key Not Found” otherwise."
   ]
  },
  {
   "cell_type": "code",
   "execution_count": 117,
   "id": "c4c4215c-1f98-40dc-a920-99c8c6a7d7f5",
   "metadata": {},
   "outputs": [
    {
     "name": "stdin",
     "output_type": "stream",
     "text": [
      " kelly\n"
     ]
    },
    {
     "name": "stdout",
     "output_type": "stream",
     "text": [
      "Key Found\n"
     ]
    }
   ],
   "source": [
    "info = {'jason': 30, 'kelly': 35, 'yang': 33, 'nanfei': 27}\n",
    "in_key = input()\n",
    "if in_key in info:\n",
    "    print('Key Found')\n",
    "else:\n",
    "    print('Key Not Found')"
   ]
  },
  {
   "cell_type": "markdown",
   "id": "37dcd809-fc0d-424a-bc3b-b96952ad9190",
   "metadata": {
    "jp-MarkdownHeadingCollapsed": true
   },
   "source": [
    "# Nested Dictionary Problems"
   ]
  },
  {
   "cell_type": "markdown",
   "id": "57de1717-b94f-4e94-890f-d0635976fd7c",
   "metadata": {},
   "source": [
    "## 86. Access Nested Dictionary: Given a nested dictionary containing student details, write a Python program to access and print specific information such as a student’s name, age, and address.\n",
    "\n",
    "## 87. Nested Dictionary Length: Write a Python program to calculate and print the total number of key-value pairs in a nested dictionary.\n",
    "\n",
    "## 88. Nested Dictionary Update: Given a nested dictionary of employee details, write a Python program to update an employee’s salary based on their employee ID.\n",
    "\n",
    "## 89. Nested Dictionary Sorting: Given a nested dictionary containing product details (product name, price, and quantity), write a Python program to sort the products based on their prices in ascending order.\n",
    "\n",
    "## 90. Nested Dictionary Key Search: Write a Python program that takes a key as input and searches for it in a nested dictionary. If found, print the corresponding value, otherwise, print “Key Not Found.”"
   ]
  },
  {
   "cell_type": "code",
   "execution_count": 122,
   "id": "f3e8e738-683f-4829-a1f6-c11be36034f6",
   "metadata": {},
   "outputs": [
    {
     "name": "stdout",
     "output_type": "stream",
     "text": [
      "Student1:\n",
      "name: Jason\n",
      "age: 23\n",
      "address: kongyuan\n"
     ]
    }
   ],
   "source": [
    "students = {\n",
    "    'Student1': {\n",
    "        'name': 'Jason',\n",
    "        'age': 23,\n",
    "        'address': {\n",
    "            'community': 'kongyuan',\n",
    "            'building': '7-2'\n",
    "        }\n",
    "    },\n",
    "    'Student2': {\n",
    "        'name': 'yang',\n",
    "        'age': 25,\n",
    "        'address': {\n",
    "            'community': 'taoli',\n",
    "            'building': '11-1'\n",
    "        }\n",
    "    }\n",
    "}\n",
    "\n",
    "print(f'Student1:\\nname: {students['Student1']['name']}\\nage: {students['Student1']['age']}\\naddress: {students['Student1']['address']['community']}')"
   ]
  },
  {
   "cell_type": "markdown",
   "id": "5b933d12-254a-4dc2-97d4-d119fed41300",
   "metadata": {},
   "source": [
    "## 87. Nested Dictionary Length: Write a Python program to calculate and print the total number of key-value pairs in a nested dictionary."
   ]
  },
  {
   "cell_type": "code",
   "execution_count": 126,
   "id": "e14c799c-4653-4035-a4b9-27ee2c613e9f",
   "metadata": {},
   "outputs": [
    {
     "data": {
      "text/plain": [
       "2"
      ]
     },
     "execution_count": 126,
     "metadata": {},
     "output_type": "execute_result"
    }
   ],
   "source": [
    "students = {\n",
    "    'Student1': {\n",
    "        'name': 'Jason',\n",
    "        'age': 23,\n",
    "        'address': {\n",
    "            'community': 'kongyuan',\n",
    "            'building': '7-2'\n",
    "        }\n",
    "    },\n",
    "    'Student2': {\n",
    "        'name': 'yang',\n",
    "        'age': 25,\n",
    "        'address': {\n",
    "            'community': 'taoli',\n",
    "            'building': '11-1'\n",
    "        }\n",
    "    }\n",
    "}\n",
    "\n",
    "len(students)"
   ]
  },
  {
   "cell_type": "markdown",
   "id": "9128f44c-1f53-4a54-a566-014754c5ef4a",
   "metadata": {},
   "source": [
    "## 88. Nested Dictionary Update: Given a nested dictionary of employee details, write a Python program to update an employee’s salary based on their employee ID."
   ]
  },
  {
   "cell_type": "markdown",
   "id": "3320e6a1-18cc-44a6-a89d-49d3f36e7d8d",
   "metadata": {
    "jp-MarkdownHeadingCollapsed": true
   },
   "source": [
    "# Break & Continue "
   ]
  },
  {
   "cell_type": "markdown",
   "id": "9a90f80e-6282-4d6b-be1c-817eca3d599e",
   "metadata": {},
   "source": [
    "## 91. Prime Number Checker: Write a Python program that takes a number as input and determines if it is a prime number or not. Use a `for` loop to check for factors. If a factor is found, `break` out of the loop."
   ]
  },
  {
   "cell_type": "code",
   "execution_count": 128,
   "id": "c45c7fd3-b60b-4293-bc67-8dfb77b64942",
   "metadata": {},
   "outputs": [
    {
     "name": "stdin",
     "output_type": "stream",
     "text": [
      " 7\n"
     ]
    },
    {
     "name": "stdout",
     "output_type": "stream",
     "text": [
      "prime\n"
     ]
    }
   ],
   "source": [
    "n = int(input())\n",
    "flag = 1\n",
    "for i in range(2, int(n**0.5) + 1):\n",
    "    if n%i==0:\n",
    "        flag = 0\n",
    "        break\n",
    "if flag==1:\n",
    "    print('prime')\n",
    "else:\n",
    "    print('not prime')"
   ]
  },
  {
   "cell_type": "markdown",
   "id": "99e33025-dfe2-45f7-8abf-3cfcc15de826",
   "metadata": {},
   "source": [
    "## 92. Even Number Printer: Write a Python program to print all even numbers from 1 to 20. Use a `for` loop and `continue` to skip odd numbers."
   ]
  },
  {
   "cell_type": "code",
   "execution_count": 130,
   "id": "9fc73559-29f4-44ef-87c8-c3fa1f0906d5",
   "metadata": {},
   "outputs": [
    {
     "name": "stdout",
     "output_type": "stream",
     "text": [
      "2 4 6 8 10 12 14 16 18 20 "
     ]
    }
   ],
   "source": [
    "for i in range(1, 21):\n",
    "    if i%2==1:\n",
    "        continue\n",
    "    print(i, end=' ')"
   ]
  },
  {
   "cell_type": "markdown",
   "id": "2fe6e1fe-d692-4ce4-b4b2-10b32da96db6",
   "metadata": {},
   "source": [
    "## 93. Password Validator: Write a Python program that takes a password as input and checks if it meets the following criteria: at least 8 characters long, contains both uppercase and lowercase letters, and has at least one digit. If the password is valid, print “Password accepted.” If not, use `continue` to prompt the user to enter a valid password."
   ]
  },
  {
   "cell_type": "code",
   "execution_count": 1,
   "id": "5ec39ac9-ad34-49c8-8079-73b1dd3f6d91",
   "metadata": {},
   "outputs": [
    {
     "name": "stdin",
     "output_type": "stream",
     "text": [
      " asdfjkl;\n"
     ]
    },
    {
     "name": "stdout",
     "output_type": "stream",
     "text": [
      "Not valid, try again!\n"
     ]
    },
    {
     "name": "stdin",
     "output_type": "stream",
     "text": [
      " asdf\n"
     ]
    },
    {
     "name": "stdout",
     "output_type": "stream",
     "text": [
      "Not valid, try again!\n"
     ]
    },
    {
     "name": "stdin",
     "output_type": "stream",
     "text": [
      " asdf123ASD\n"
     ]
    },
    {
     "name": "stdout",
     "output_type": "stream",
     "text": [
      "Password accepted.\n"
     ]
    }
   ],
   "source": [
    "while True:\n",
    "    password = input()\n",
    "    if len(password)<8:\n",
    "        print('Not valid, try again!')\n",
    "        continue\n",
    "    up = False\n",
    "    low = False\n",
    "    digit = False\n",
    "    for char in password:\n",
    "        if char.isupper():\n",
    "            up = True\n",
    "        elif char.islower():\n",
    "            low = True\n",
    "        elif char.isdigit():\n",
    "            digit = True\n",
    "    if not up or not low or not digit:\n",
    "        print('Not valid, try again!')\n",
    "        continue\n",
    "    print('Password accepted.')\n",
    "    break"
   ]
  },
  {
   "cell_type": "markdown",
   "id": "7f7aa1d7-bf73-4fd4-81b5-3ad2e64f8831",
   "metadata": {},
   "source": [
    "## 94. Divisible by 3 or 5: Write a Python program to print all numbers from 1 to 50 that are divisible by either 3 or 5. Use a `for` loop and `continue` to skip numbers that are not divisible by either 3 or 5."
   ]
  },
  {
   "cell_type": "code",
   "execution_count": 3,
   "id": "739d5d4b-2816-4782-9bab-bed3cb60b990",
   "metadata": {},
   "outputs": [
    {
     "name": "stdout",
     "output_type": "stream",
     "text": [
      "3 5 6 9 10 12 15 18 20 21 24 25 27 30 33 35 36 39 40 42 45 48 50 "
     ]
    }
   ],
   "source": [
    "for i in range(1, 51):\n",
    "    if i%3!=0 and i%5!=0:\n",
    "        continue\n",
    "    print(i, end=' ')"
   ]
  },
  {
   "cell_type": "markdown",
   "id": "84a29659-9465-4235-812c-41a8eb2107e7",
   "metadata": {},
   "source": [
    "## 95. Positive Number Sum: Write a Python program that takes positive numbers as input until a negative number is entered. Then, calculate and print the sum of all positive numbers entered. Use a `while` loop and `break` to exit the loop when a negative number is encountered."
   ]
  },
  {
   "cell_type": "code",
   "execution_count": 4,
   "id": "b1ac1b19-a151-4259-9845-911edb9272b2",
   "metadata": {},
   "outputs": [
    {
     "name": "stdin",
     "output_type": "stream",
     "text": [
      " 1\n",
      " 2\n",
      " 3\n",
      " 4\n",
      " 5\n",
      " 6\n",
      " -4\n"
     ]
    },
    {
     "data": {
      "text/plain": [
       "21"
      ]
     },
     "execution_count": 4,
     "metadata": {},
     "output_type": "execute_result"
    }
   ],
   "source": [
    "sum = 0\n",
    "while True:\n",
    "    n = int(input())\n",
    "    if n<0:\n",
    "        break\n",
    "    sum += n\n",
    "sum"
   ]
  },
  {
   "cell_type": "markdown",
   "id": "c9e758c5-a2fc-4adc-94b7-dccbb93de434",
   "metadata": {},
   "source": [
    "## 96. Word Palindrome Checker: Write a Python program that takes a word as input and checks if it is a palindrome (reads the same forwards and backward). Use `continue` to skip checking the word if its length is less than 3 characters."
   ]
  },
  {
   "cell_type": "code",
   "execution_count": 7,
   "id": "6c8801a9-964b-4d2c-b2f1-6e9b9be76a33",
   "metadata": {},
   "outputs": [
    {
     "name": "stdin",
     "output_type": "stream",
     "text": [
      "How many times to input word?:  3\n",
      "word:  tree\n"
     ]
    },
    {
     "name": "stdout",
     "output_type": "stream",
     "text": [
      "not palindrome\n"
     ]
    },
    {
     "name": "stdin",
     "output_type": "stream",
     "text": [
      "word:  ab\n",
      "word:  civic\n"
     ]
    },
    {
     "name": "stdout",
     "output_type": "stream",
     "text": [
      "palindrome\n"
     ]
    }
   ],
   "source": [
    "times = int(input('How many times to input word?: '))\n",
    "for _ in range(times):\n",
    "    word = input('word: ')\n",
    "    if len(word)<3:\n",
    "        continue\n",
    "    if word == word[::-1]:\n",
    "        print('palindrome')\n",
    "    else:\n",
    "        print('not palindrome')"
   ]
  },
  {
   "cell_type": "markdown",
   "id": "8e635d13-b8a2-4ac3-b32b-3a3cbf4e3145",
   "metadata": {},
   "source": [
    "## 97. Odd Number Finder: Write a Python program to find the first odd number from a list of integers. Use a `for` loop and `break` to stop the loop when the first odd number is found."
   ]
  },
  {
   "cell_type": "code",
   "execution_count": 9,
   "id": "7a34a296-6f60-4f96-a759-aad167e20c32",
   "metadata": {},
   "outputs": [
    {
     "name": "stdout",
     "output_type": "stream",
     "text": [
      "[4, 2, 8, 3, 2, 5, 1, 5]\n",
      "first odd: 3\n"
     ]
    }
   ],
   "source": [
    "import numpy as np\n",
    "lst = list(np.random.randint(1, 10, 8))\n",
    "print(lst)\n",
    "\n",
    "for i in lst:\n",
    "    if i%2!=0:\n",
    "        print(f'first odd: {i}')\n",
    "        break"
   ]
  },
  {
   "cell_type": "markdown",
   "id": "4523a32d-f4fb-403b-a673-3831ac7381a5",
   "metadata": {},
   "source": [
    "## 98. Number Guessing Game: Write a Python program that generates a random number between 1 and 100 and lets the user guess the number. Use a `while` loop, `break` when the correct number is guessed, and `continue` to keep prompting the user until they guess correctly."
   ]
  },
  {
   "cell_type": "code",
   "execution_count": 2,
   "id": "fb77bf32-f4d4-417b-8e40-3e4451fc059e",
   "metadata": {},
   "outputs": [
    {
     "name": "stdin",
     "output_type": "stream",
     "text": [
      "guess(1-100):  50\n"
     ]
    },
    {
     "name": "stdout",
     "output_type": "stream",
     "text": [
      "guess greater\n"
     ]
    },
    {
     "name": "stdin",
     "output_type": "stream",
     "text": [
      "guess(1-100):  80\n"
     ]
    },
    {
     "name": "stdout",
     "output_type": "stream",
     "text": [
      "guess lower\n"
     ]
    },
    {
     "name": "stdin",
     "output_type": "stream",
     "text": [
      "guess(1-100):  75\n"
     ]
    },
    {
     "name": "stdout",
     "output_type": "stream",
     "text": [
      "guess lower\n"
     ]
    },
    {
     "name": "stdin",
     "output_type": "stream",
     "text": [
      "guess(1-100):  65\n"
     ]
    },
    {
     "name": "stdout",
     "output_type": "stream",
     "text": [
      "guess lower\n"
     ]
    },
    {
     "name": "stdin",
     "output_type": "stream",
     "text": [
      "guess(1-100):  57\n"
     ]
    },
    {
     "name": "stdout",
     "output_type": "stream",
     "text": [
      "guess greater\n"
     ]
    },
    {
     "name": "stdin",
     "output_type": "stream",
     "text": [
      "guess(1-100):  60\n"
     ]
    },
    {
     "name": "stdout",
     "output_type": "stream",
     "text": [
      "guess greater\n"
     ]
    },
    {
     "name": "stdin",
     "output_type": "stream",
     "text": [
      "guess(1-100):  63\n"
     ]
    },
    {
     "name": "stdout",
     "output_type": "stream",
     "text": [
      "guess greater\n"
     ]
    },
    {
     "name": "stdin",
     "output_type": "stream",
     "text": [
      "guess(1-100):  64\n"
     ]
    },
    {
     "name": "stdout",
     "output_type": "stream",
     "text": [
      "correct!\n"
     ]
    }
   ],
   "source": [
    "import random\n",
    "num = random.randint(1, 100)\n",
    "while True:\n",
    "    n = int(input('guess(1-100): '))\n",
    "    if n == num:\n",
    "        print('correct!')\n",
    "        break\n",
    "    elif n<num:\n",
    "        print('guess greater')\n",
    "        continue\n",
    "    else:\n",
    "        print('guess lower')\n",
    "        continue"
   ]
  },
  {
   "cell_type": "markdown",
   "id": "65916332-1103-4d05-a58e-aab58eee273b",
   "metadata": {},
   "source": [
    "## 99. Vowel Counter: Write a Python program that takes a string as input and counts the number of vowels (a, e, i, o, u) in it. Use a `for` loop and `continue` to skip counting non-vowel characters."
   ]
  },
  {
   "cell_type": "code",
   "execution_count": 3,
   "id": "462b2287-a8a2-4b77-bb8a-1a1b465004e0",
   "metadata": {},
   "outputs": [
    {
     "name": "stdin",
     "output_type": "stream",
     "text": [
      " continue test\n"
     ]
    },
    {
     "data": {
      "text/plain": [
       "5"
      ]
     },
     "execution_count": 3,
     "metadata": {},
     "output_type": "execute_result"
    }
   ],
   "source": [
    "st = input()\n",
    "vowels = 'aeiou'\n",
    "cnt = 0\n",
    "\n",
    "for i in st.lower():\n",
    "    if i not in vowels:\n",
    "        continue\n",
    "    cnt += 1\n",
    "cnt"
   ]
  },
  {
   "cell_type": "markdown",
   "id": "8756ffbc-01fe-4bbe-89d3-6dd4e3a478db",
   "metadata": {},
   "source": [
    "## 100. Unique Characters: Write a Python program that takes a string as input and checks if it contains all unique characters (no character repeats). Use a `for` loop and `break` when a character repeats."
   ]
  },
  {
   "cell_type": "code",
   "execution_count": 6,
   "id": "69913e25-1a34-4cfc-b98f-aa03a173f4a0",
   "metadata": {},
   "outputs": [
    {
     "name": "stdin",
     "output_type": "stream",
     "text": [
      " asdfsa\n"
     ]
    },
    {
     "name": "stdout",
     "output_type": "stream",
     "text": [
      "character repeats!\n"
     ]
    }
   ],
   "source": [
    "st = input()\n",
    "seen = ''\n",
    "for i in st:\n",
    "    if i in seen:\n",
    "        print('character repeats!')\n",
    "        break\n",
    "    seen += i\n",
    "else:\n",
    "    print('uninque string')"
   ]
  },
  {
   "cell_type": "markdown",
   "id": "76a03448-972b-4535-863c-da37091c870f",
   "metadata": {},
   "source": [
    "# Functions Problems"
   ]
  },
  {
   "cell_type": "markdown",
   "id": "dadbf24b-08a2-4857-b112-667c7f330ca2",
   "metadata": {},
   "source": [
    "## 101. Factorial Calculator: Write a Python function called `factorial` that takes an integer as input and returns its factorial. Test the function with different values.\n",
    "\n",
    "## 102. Palindrome Checker: Write a Python function called `is_palindrome` that takes a string as input and returns `True` if it is a palindrome and `False` otherwise. Test the function with different words.\n",
    "\n",
    "## 103. Even or Odd Checker: Write a Python function called `even_or_odd` that takes an integer as input and returns “Even” if the number is even and “Odd” if the number is odd. Test the function with different numbers.\n",
    "\n",
    "## 104. List Sum Calculator: Write a Python function called `list_sum` that takes a list of integers as input and returns the sum of all elements in the list. Test the function with different lists.\n",
    "\n",
    "## 105. Greatest Common Divisor (GCD) Calculator: Write a Python function called `gcd` that takes two integers as input and returns their greatest common divisor. Test the function with different pairs of numbers.\n",
    "\n",
    "## 106. Leap Year Checker: Write a Python function called `is_leap_year` that takes a year as input and returns `True` if it is a leap year and `False` otherwise. Test the function with different years."
   ]
  },
  {
   "cell_type": "code",
   "execution_count": null,
   "id": "a556f079-1183-4780-89d6-033f9ad2125f",
   "metadata": {},
   "outputs": [],
   "source": []
  }
 ],
 "metadata": {
  "kernelspec": {
   "display_name": "Python 3 (ipykernel)",
   "language": "python",
   "name": "python3"
  },
  "language_info": {
   "codemirror_mode": {
    "name": "ipython",
    "version": 3
   },
   "file_extension": ".py",
   "mimetype": "text/x-python",
   "name": "python",
   "nbconvert_exporter": "python",
   "pygments_lexer": "ipython3",
   "version": "3.12.0"
  }
 },
 "nbformat": 4,
 "nbformat_minor": 5
}
