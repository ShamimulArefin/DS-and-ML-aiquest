{
 "cells": [
  {
   "cell_type": "markdown",
   "id": "18344ed5-9fba-4ea9-a47d-f2f99bbc3e71",
   "metadata": {},
   "source": [
    "# Assignment on Linear Regression"
   ]
  },
  {
   "cell_type": "markdown",
   "id": "f965359d-2951-4fad-8287-605ff1d80cd8",
   "metadata": {},
   "source": [
    "### Dataset\n",
    "vegetable weights and prices"
   ]
  },
  {
   "cell_type": "code",
   "execution_count": 1,
   "id": "4efe2d4c-10d8-4053-8541-33ed688545dd",
   "metadata": {},
   "outputs": [],
   "source": [
    "Weight = [2, 4, 5, 3, 6, 5, 7]\n",
    "Price = [35, 60, 20, 50, 50, 55, 60]"
   ]
  },
  {
   "cell_type": "markdown",
   "id": "bb54ba36-8cd3-4fca-98e3-506c581793ed",
   "metadata": {},
   "source": [
    "## Task 1\n",
    "compute the slope (M) and y-intercept (C) using Ordinary Least Squares Linear Regression. And apply these values to predict the price when the vegetable weight is 6"
   ]
  },
  {
   "cell_type": "markdown",
   "id": "9247c0ad-3048-43fa-aa63-4e514925bfb4",
   "metadata": {},
   "source": [
    "#### Use numpy to create array and further calculations"
   ]
  },
  {
   "cell_type": "code",
   "execution_count": 2,
   "id": "fef0f1a6-a3d2-4f1c-b1ba-d9ece9a8c92f",
   "metadata": {},
   "outputs": [],
   "source": [
    "import numpy as np"
   ]
  },
  {
   "cell_type": "markdown",
   "id": "e2d8a00c-d9ac-4d01-b908-a65aab039ad9",
   "metadata": {},
   "source": [
    "#### Create numpy array X and Y according to Weight and Price"
   ]
  },
  {
   "cell_type": "code",
   "execution_count": 3,
   "id": "1946ec8b-e10a-46c4-bdc3-82782cfec998",
   "metadata": {},
   "outputs": [
    {
     "name": "stdout",
     "output_type": "stream",
     "text": [
      "[2 4 5 3 6 5 7]\n",
      "[35 60 20 50 50 55 60]\n"
     ]
    }
   ],
   "source": [
    "X = np.array(Weight)\n",
    "Y = np.array(Price)\n",
    "\n",
    "print(X)\n",
    "print(Y)"
   ]
  },
  {
   "cell_type": "markdown",
   "id": "18e94a82-8a01-4358-a879-da546fc62525",
   "metadata": {},
   "source": [
    "#### Compute slope (M)\n",
    "$$M = \\frac{\\bar{X} \\bar{Y} - \\overline{XY}}{\\bar{X}^2 - \\overline{X^2}}$$"
   ]
  },
  {
   "cell_type": "code",
   "execution_count": 4,
   "id": "ec55a2db-3f54-4429-bfd8-59e5f8676462",
   "metadata": {},
   "outputs": [
    {
     "data": {
      "text/plain": [
       "2.620967741935483"
      ]
     },
     "execution_count": 4,
     "metadata": {},
     "output_type": "execute_result"
    }
   ],
   "source": [
    "M = ((X.mean()*Y.mean()) - (X*Y).mean()) / ((X.mean()**2) - (X**2).mean())\n",
    "M"
   ]
  },
  {
   "cell_type": "markdown",
   "id": "b3363647-c80b-44e0-bc38-edb735b50f3b",
   "metadata": {},
   "source": [
    "#### Compute y-intercept (C)\n",
    "$$C = \\bar{Y} - (M \\cdot \\bar{X})$$"
   ]
  },
  {
   "cell_type": "code",
   "execution_count": 5,
   "id": "d62cda2d-d0dd-41ab-9cbc-32d87f89a0b3",
   "metadata": {},
   "outputs": [
    {
     "data": {
      "text/plain": [
       "35.161290322580655"
      ]
     },
     "execution_count": 5,
     "metadata": {},
     "output_type": "execute_result"
    }
   ],
   "source": [
    "C = Y.mean() - (M * X.mean())\n",
    "C"
   ]
  },
  {
   "cell_type": "markdown",
   "id": "3dcab723-761d-47cd-bb70-3ea47e55c23f",
   "metadata": {},
   "source": [
    "#### predict the price when the vegetable weight is 6\n",
    "$$Y = MX + C$$"
   ]
  },
  {
   "cell_type": "code",
   "execution_count": 6,
   "id": "b6fb2cb1-861b-40f5-a565-215a1ce465e4",
   "metadata": {},
   "outputs": [
    {
     "data": {
      "text/plain": [
       "50.88709677419355"
      ]
     },
     "execution_count": 6,
     "metadata": {},
     "output_type": "execute_result"
    }
   ],
   "source": [
    "pred_w6 = M * 6 + C\n",
    "pred_w6"
   ]
  },
  {
   "cell_type": "markdown",
   "id": "c2122d13-c64b-4c3a-8e33-75a3dbbf9684",
   "metadata": {},
   "source": [
    "## Task 2\n",
    "Compute the residuals for each data point"
   ]
  },
  {
   "cell_type": "markdown",
   "id": "ffc7553b-3232-4a6d-8854-e4296abdc2a0",
   "metadata": {},
   "source": [
    "#### Prediction for each weights of dataset"
   ]
  },
  {
   "cell_type": "code",
   "execution_count": 7,
   "id": "d3b73a14-b8cd-4c4a-a8df-b52d8a41dedb",
   "metadata": {},
   "outputs": [
    {
     "data": {
      "text/plain": [
       "array([40.40322581, 45.64516129, 48.26612903, 43.02419355, 50.88709677,\n",
       "       48.26612903, 53.50806452])"
      ]
     },
     "execution_count": 7,
     "metadata": {},
     "output_type": "execute_result"
    }
   ],
   "source": [
    "pred_Y = M * X + C\n",
    "pred_Y"
   ]
  },
  {
   "cell_type": "markdown",
   "id": "bda3ad31-db1f-423a-87c2-24fc8102d1df",
   "metadata": {},
   "source": [
    "#### Residuals\n",
    "$$Residuals = |Y - \\text{pred\\_Y}|$$\n",
    "Here,  \n",
    "Y = Observed weights  \n",
    "pred_Y = Predicted weights"
   ]
  },
  {
   "cell_type": "code",
   "execution_count": 8,
   "id": "08a663a6-2c16-4623-8f4b-71a995374ff8",
   "metadata": {},
   "outputs": [
    {
     "data": {
      "text/plain": [
       "array([ 5.40322581, 14.35483871, 28.26612903,  6.97580645,  0.88709677,\n",
       "        6.73387097,  6.49193548])"
      ]
     },
     "execution_count": 8,
     "metadata": {},
     "output_type": "execute_result"
    }
   ],
   "source": [
    "Residuals = abs(Y - pred_Y)\n",
    "Residuals"
   ]
  },
  {
   "cell_type": "markdown",
   "id": "a326ed30-eaa4-4e8b-801a-328be30090f3",
   "metadata": {},
   "source": [
    "## Task 3\n",
    "Calculate both the Mean Squared Error (MSE) and Mean Absolute Error (MAE)"
   ]
  },
  {
   "cell_type": "markdown",
   "id": "54193158-8c3b-4faf-9d4d-e43ea3896d63",
   "metadata": {},
   "source": [
    "#### Mean Squared Error (MSE)\n",
    "$$MSE = \\frac{1}{n} \\sum_{i=1}^{n} (\\text{Y}_i - \\text{pred\\_Y}_i)^2$$"
   ]
  },
  {
   "cell_type": "code",
   "execution_count": 9,
   "id": "780d33ac-bf40-42ae-8476-7fe910b636e3",
   "metadata": {},
   "outputs": [
    {
     "data": {
      "text/plain": [
       "167.30990783410138"
      ]
     },
     "execution_count": 9,
     "metadata": {},
     "output_type": "execute_result"
    }
   ],
   "source": [
    "MSE = np.mean((Y - pred_Y)**2)\n",
    "MSE"
   ]
  },
  {
   "cell_type": "markdown",
   "id": "b25ac85e-f533-4ba3-bb98-6e26c4892ec7",
   "metadata": {},
   "source": [
    "#### Mean Absolute Error (MAE)\n",
    "$$MAE = \\frac{1}{n} \\sum_{i=1}^{n} |\\text{Y}_i - \\text{pred\\_Y}_i|$$"
   ]
  },
  {
   "cell_type": "code",
   "execution_count": 10,
   "id": "6c55e07c-19c7-42f8-bd36-5d196b31b894",
   "metadata": {},
   "outputs": [
    {
     "data": {
      "text/plain": [
       "9.87327188940092"
      ]
     },
     "execution_count": 10,
     "metadata": {},
     "output_type": "execute_result"
    }
   ],
   "source": [
    "MAE = np.mean(abs(Y-pred_Y))\n",
    "MAE"
   ]
  },
  {
   "cell_type": "markdown",
   "id": "9205b31d-56bb-46a1-aede-b513501c6b3e",
   "metadata": {},
   "source": [
    "## Final Task\n",
    "Generate an Excel file for the given dataset."
   ]
  },
  {
   "cell_type": "markdown",
   "id": "30f24645-705b-4dee-a3a8-126f30a6dd0a",
   "metadata": {},
   "source": [
    "#### Use pandas library to generate Excel file"
   ]
  },
  {
   "cell_type": "code",
   "execution_count": 11,
   "id": "e6284430-7977-4b47-98dd-4e1eed565ee1",
   "metadata": {},
   "outputs": [],
   "source": [
    "import pandas as pd"
   ]
  },
  {
   "cell_type": "markdown",
   "id": "93c5658b-54f0-49b3-a822-f5b307514d10",
   "metadata": {},
   "source": [
    "#### create dataframe"
   ]
  },
  {
   "cell_type": "code",
   "execution_count": 12,
   "id": "c2320c9d-acac-4112-9ed5-1151442c02ad",
   "metadata": {},
   "outputs": [
    {
     "data": {
      "text/html": [
       "<div>\n",
       "<style scoped>\n",
       "    .dataframe tbody tr th:only-of-type {\n",
       "        vertical-align: middle;\n",
       "    }\n",
       "\n",
       "    .dataframe tbody tr th {\n",
       "        vertical-align: top;\n",
       "    }\n",
       "\n",
       "    .dataframe thead th {\n",
       "        text-align: right;\n",
       "    }\n",
       "</style>\n",
       "<table border=\"1\" class=\"dataframe\">\n",
       "  <thead>\n",
       "    <tr style=\"text-align: right;\">\n",
       "      <th></th>\n",
       "      <th>Weight</th>\n",
       "      <th>Price</th>\n",
       "      <th>Predicted Price</th>\n",
       "      <th>Residuals</th>\n",
       "    </tr>\n",
       "  </thead>\n",
       "  <tbody>\n",
       "    <tr>\n",
       "      <th>0</th>\n",
       "      <td>2</td>\n",
       "      <td>35</td>\n",
       "      <td>40.403226</td>\n",
       "      <td>5.403226</td>\n",
       "    </tr>\n",
       "    <tr>\n",
       "      <th>1</th>\n",
       "      <td>4</td>\n",
       "      <td>60</td>\n",
       "      <td>45.645161</td>\n",
       "      <td>14.354839</td>\n",
       "    </tr>\n",
       "    <tr>\n",
       "      <th>2</th>\n",
       "      <td>5</td>\n",
       "      <td>20</td>\n",
       "      <td>48.266129</td>\n",
       "      <td>28.266129</td>\n",
       "    </tr>\n",
       "    <tr>\n",
       "      <th>3</th>\n",
       "      <td>3</td>\n",
       "      <td>50</td>\n",
       "      <td>43.024194</td>\n",
       "      <td>6.975806</td>\n",
       "    </tr>\n",
       "    <tr>\n",
       "      <th>4</th>\n",
       "      <td>6</td>\n",
       "      <td>50</td>\n",
       "      <td>50.887097</td>\n",
       "      <td>0.887097</td>\n",
       "    </tr>\n",
       "    <tr>\n",
       "      <th>5</th>\n",
       "      <td>5</td>\n",
       "      <td>55</td>\n",
       "      <td>48.266129</td>\n",
       "      <td>6.733871</td>\n",
       "    </tr>\n",
       "    <tr>\n",
       "      <th>6</th>\n",
       "      <td>7</td>\n",
       "      <td>60</td>\n",
       "      <td>53.508065</td>\n",
       "      <td>6.491935</td>\n",
       "    </tr>\n",
       "  </tbody>\n",
       "</table>\n",
       "</div>"
      ],
      "text/plain": [
       "   Weight  Price  Predicted Price  Residuals\n",
       "0       2     35        40.403226   5.403226\n",
       "1       4     60        45.645161  14.354839\n",
       "2       5     20        48.266129  28.266129\n",
       "3       3     50        43.024194   6.975806\n",
       "4       6     50        50.887097   0.887097\n",
       "5       5     55        48.266129   6.733871\n",
       "6       7     60        53.508065   6.491935"
      ]
     },
     "execution_count": 12,
     "metadata": {},
     "output_type": "execute_result"
    }
   ],
   "source": [
    "df = pd.DataFrame({'Weight': X, 'Price': Y, 'Predicted Price': pred_Y, 'Residuals': Residuals})\n",
    "df"
   ]
  },
  {
   "cell_type": "markdown",
   "id": "38b47c9d-bd52-4ef1-8b1f-95f2afe5625d",
   "metadata": {},
   "source": [
    "#### generate excel file"
   ]
  },
  {
   "cell_type": "code",
   "execution_count": 13,
   "id": "60202146-0da2-4f0d-abb9-243890dab3f0",
   "metadata": {},
   "outputs": [
    {
     "name": "stdout",
     "output_type": "stream",
     "text": [
      "File created successfully.\n"
     ]
    }
   ],
   "source": [
    "df.to_excel('vegetable_data.xlsx', index=False)\n",
    "print('File created successfully.')"
   ]
  },
  {
   "cell_type": "code",
   "execution_count": null,
   "id": "c99b0334-5fc6-443f-a187-0932808a5328",
   "metadata": {},
   "outputs": [],
   "source": []
  }
 ],
 "metadata": {
  "kernelspec": {
   "display_name": "Python 3 (ipykernel)",
   "language": "python",
   "name": "python3"
  },
  "language_info": {
   "codemirror_mode": {
    "name": "ipython",
    "version": 3
   },
   "file_extension": ".py",
   "mimetype": "text/x-python",
   "name": "python",
   "nbconvert_exporter": "python",
   "pygments_lexer": "ipython3",
   "version": "3.12.0"
  }
 },
 "nbformat": 4,
 "nbformat_minor": 5
}
